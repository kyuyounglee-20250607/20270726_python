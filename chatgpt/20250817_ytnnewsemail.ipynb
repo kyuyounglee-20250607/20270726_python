{
 "cells": [
  {
   "cell_type": "code",
   "execution_count": 16,
   "id": "7b0424a5",
   "metadata": {},
   "outputs": [],
   "source": [
    "import requests\n",
    "from bs4 import BeautifulSoup\n",
    "import re\n",
    "\n",
    "def extract_ytn_emails(url):\n",
    "    try:\n",
    "        # 1. 웹 페이지 요청\n",
    "        response = requests.get(url)\n",
    "        response.raise_for_status()  # 요청 실패 시 예외 발생\n",
    "\n",
    "        # 2. HTML 파싱\n",
    "        soup = BeautifulSoup(response.text, \"html.parser\")\n",
    "        text = soup.get_text(separator=\" \", strip=True)\n",
    "\n",
    "        # 3. 정규식 패턴 정의\n",
    "        # 형태: YTN  이름 (이메일)\n",
    "        pattern = re.compile(r\"YTN\\s+([가-힣]+)\\s*\\(([\\w\\.-]+@[\\w\\.-]+)\\)\")\n",
    "\n",
    "        # 4. 패턴 검색\n",
    "        results = pattern.findall(text)\n",
    "\n",
    "        # 5. 결과 출력\n",
    "        extracted = []\n",
    "        for name, email in results:\n",
    "            extracted.append((name, email))\n",
    "\n",
    "        return extracted\n",
    "\n",
    "    except Exception as e:\n",
    "        print(\"오류 발생:\", e)\n",
    "        return []"
   ]
  },
  {
   "cell_type": "markdown",
   "id": "707c92ff",
   "metadata": {},
   "source": [
    "### 뉴스기사링크를 수집해서 리스트에 저장"
   ]
  },
  {
   "cell_type": "code",
   "execution_count": 17,
   "id": "db21c256",
   "metadata": {},
   "outputs": [],
   "source": [
    "# 필요한 라이브러리 설치\n",
    "# pip install selenium webdriver-manager\n",
    "\n",
    "from selenium import webdriver\n",
    "from selenium.webdriver.chrome.service import Service\n",
    "from selenium.webdriver.common.by import By\n",
    "from selenium.webdriver.chrome.options import Options\n",
    "from webdriver_manager.chrome import ChromeDriverManager\n",
    "import time\n",
    "\n",
    "def get_ytn_news_links():\n",
    "    # Chrome 옵션 설정 (창을 띄우지 않고 실행)\n",
    "    chrome_options = Options()\n",
    "    chrome_options.add_argument(\"--headless\")  # 화면 안 띄움\n",
    "    chrome_options.add_argument(\"--no-sandbox\")\n",
    "    chrome_options.add_argument(\"--disable-dev-shm-usage\")\n",
    "\n",
    "    # ChromeDriver 자동 설치 및 실행\n",
    "    driver = webdriver.Chrome(service=Service(ChromeDriverManager().install()), options=chrome_options)\n",
    "    \n",
    "    try:\n",
    "        url = \"https://www.ytn.co.kr/\"\n",
    "        driver.get(url)\n",
    "        \n",
    "        # 충분히 여유를 두고 뉴스 목록 로딩 대기 (예: 5초)\n",
    "        time.sleep(5)\n",
    "        \n",
    "        # 모든 <a> 태그 수집\n",
    "        a_tags = driver.find_elements(By.TAG_NAME, \"a\")\n",
    "        \n",
    "        # /_ln/ 포함된 링크만 필터링\n",
    "        news_links = []\n",
    "        for a in a_tags:\n",
    "            href = a.get_attribute(\"href\")\n",
    "            if href and \"/_ln/\" in href:\n",
    "                news_links.append(href)\n",
    "        \n",
    "        # 중복 제거\n",
    "        news_links = list(set(news_links))\n",
    "        \n",
    "        return news_links\n",
    "    \n",
    "    finally:\n",
    "        driver.quit()\n"
   ]
  },
  {
   "cell_type": "code",
   "execution_count": 19,
   "id": "88b05704",
   "metadata": {},
   "outputs": [
    {
     "name": "stdout",
     "output_type": "stream",
     "text": [
      "[('김종욱', 'jwkim@ytn.co.kr')]\n",
      "[('정유신', 'yusin@ytn.co.kr')]\n",
      "[('이문석', 'mslee2@ytn.co.kr')]\n",
      "[('권영희', 'kwonyh@ytn.co.kr')]\n",
      "[('강민경', 'kmk0210@ytn.co.kr')]\n",
      "[('김다연', 'kimdy0818@ytn.co.kr')]\n",
      "[('차유정', 'chayj@ytn.co.kr')]\n",
      "[('오승훈', '5win@ytn.co.kr')]\n",
      "[('권영희', 'kwonyh@ytn.co.kr')]\n",
      "[('정혜윤', 'jh0302@ytn.co.kr')]\n",
      "[('이준엽', 'leejy@ytn.co.kr')]\n",
      "[('권민석', 'minseok20@ytn.co.kr')]\n",
      "[('최아영', 'cay24@ytn.co.kr')]\n",
      "[('이종원', 'jongwon@ytn.co.kr')]\n",
      "[('윤태인', 'ytaein@ytn.co.kr')]\n",
      "[('김잔디', 'jandi@ytn.co.kr')]\n",
      "[('임예진', 'imyj77@ytn.co.kr')]\n",
      "[('나혜인', 'nahi8@ytn.co.kr')]\n",
      "[('이경국', 'leekk0428@ytn.co.kr')]\n",
      "[('부장원', 'boojw1@ytn.co.kr')]\n",
      "[('배민혁', 'baemh0725@ytn.co.kr')]\n",
      "[('김주영', 'kimjy0810@ytn.co.kr')]\n",
      "[('신웅진', 'ujshin@ytn.co.kr')]\n",
      "[('신윤정', 'yjshine@ytn.co.kr')]\n",
      "[('유서현', 'ryush@ytn.co.kr')]\n",
      "[('김종욱', 'jwkim@ytn.co.kr')]\n",
      "[('유투권', 'r2kwon@ytn.co.kr')]\n",
      "[('박정현', 'miaint3120@ytn.co.kr')]\n",
      "추출된 데이터\n"
     ]
    }
   ],
   "source": [
    "urls = get_ytn_news_links()\n",
    "name_emails = []\n",
    "for url in urls:\n",
    "    data = extract_ytn_emails(url)\n",
    "    if data:        \n",
    "        name_emails.append(data)\n",
    "        print(data)\n",
    "print(f'추출된 데이터')        \n"
   ]
  },
  {
   "cell_type": "code",
   "execution_count": null,
   "id": "dcc5c994",
   "metadata": {},
   "outputs": [],
   "source": []
  }
 ],
 "metadata": {
  "kernelspec": {
   "display_name": "base",
   "language": "python",
   "name": "python3"
  },
  "language_info": {
   "codemirror_mode": {
    "name": "ipython",
    "version": 3
   },
   "file_extension": ".py",
   "mimetype": "text/x-python",
   "name": "python",
   "nbconvert_exporter": "python",
   "pygments_lexer": "ipython3",
   "version": "3.13.5"
  }
 },
 "nbformat": 4,
 "nbformat_minor": 5
}

{
 "cells": [
  {
   "cell_type": "code",
   "execution_count": 1,
   "id": "543451f8",
   "metadata": {},
   "outputs": [
    {
     "name": "stdout",
     "output_type": "stream",
     "text": [
      "10\n",
      "20\n",
      "30\n"
     ]
    }
   ],
   "source": [
    "# for문은 리스트의 각 원소를 순환한다\n",
    "list_1 = [10,20,30]\n",
    "for i in list_1:\n",
    "    print(i)"
   ]
  },
  {
   "cell_type": "code",
   "execution_count": 3,
   "id": "e56890fa",
   "metadata": {},
   "outputs": [
    {
     "name": "stdout",
     "output_type": "stream",
     "text": [
      "rd_numbers is [46, 95, 29, 96, 5, 17, 66, 93, 34, 22]\n",
      "95\n",
      "96\n",
      "66\n",
      "93\n"
     ]
    }
   ],
   "source": [
    "import random\n",
    "rd_numbers = random.sample(range(100),10)\n",
    "print(f'rd_numbers is {rd_numbers}')\n",
    "# 리스트에 있는 값들중에 50보다 큰 값들만 출력\n",
    "for i in rd_numbers:\n",
    "    if i >= 50:\n",
    "        print(i)        "
   ]
  },
  {
   "cell_type": "code",
   "execution_count": 1,
   "id": "cf4f9aec",
   "metadata": {},
   "outputs": [
    {
     "name": "stdout",
     "output_type": "stream",
     "text": [
      "rd_numbers is [1, 63, 95, 90, 33, 69, 96, 67, 86, 50]\n",
      "[63, 95, 90, 69, 96, 67, 86, 50]\n"
     ]
    }
   ],
   "source": [
    "import random\n",
    "rd_numbers = random.sample(range(100),10)\n",
    "print(f'rd_numbers is {rd_numbers}')\n",
    "# 리스트에 있는 값들중에 50보다 큰 값들만 새로운 리스트에 담아서 출력\n",
    "new_numbers = []  # list()\n",
    "for i in rd_numbers:\n",
    "    if i>=50:\n",
    "        new_numbers.append(i)\n",
    "\n",
    "print(new_numbers)\n"
   ]
  },
  {
   "cell_type": "code",
   "execution_count": null,
   "id": "f92c1eab",
   "metadata": {},
   "outputs": [
    {
     "data": {
      "text/plain": [
       "[3, 4]"
      ]
     },
     "execution_count": 5,
     "metadata": {},
     "output_type": "execute_result"
    }
   ],
   "source": [
    "list(range(3,5))"
   ]
  },
  {
   "cell_type": "code",
   "execution_count": 8,
   "id": "6755761e",
   "metadata": {},
   "outputs": [
    {
     "name": "stdout",
     "output_type": "stream",
     "text": [
      "2 X 1 = 2\n",
      "2 X 2 = 4\n",
      "2 X 3 = 6\n",
      "2 X 4 = 8\n",
      "2 X 5 = 10\n",
      "2 X 6 = 12\n",
      "2 X 7 = 14\n",
      "2 X 8 = 16\n",
      "2 X 9 = 18\n"
     ]
    }
   ],
   "source": [
    "# 단순반복은  range()를 이용\n",
    "for i in range(1,10):\n",
    "    print(f'2 X {i} = {i*2}')"
   ]
  },
  {
   "cell_type": "code",
   "execution_count": 10,
   "id": "248479fd",
   "metadata": {},
   "outputs": [
    {
     "name": "stdout",
     "output_type": "stream",
     "text": [
      "2 X 1 = 2\n",
      "2 X 2 = 4\n",
      "2 X 3 = 6\n",
      "2 X 4 = 8\n",
      "2 X 5 = 10\n",
      "2 X 6 = 12\n",
      "2 X 7 = 14\n",
      "2 X 8 = 16\n",
      "2 X 9 = 18\n",
      "\n",
      "3 X 1 = 3\n",
      "3 X 2 = 6\n",
      "3 X 3 = 9\n",
      "3 X 4 = 12\n",
      "3 X 5 = 15\n",
      "3 X 6 = 18\n",
      "3 X 7 = 21\n",
      "3 X 8 = 24\n",
      "3 X 9 = 27\n",
      "\n",
      "4 X 1 = 4\n",
      "4 X 2 = 8\n",
      "4 X 3 = 12\n",
      "4 X 4 = 16\n",
      "4 X 5 = 20\n",
      "4 X 6 = 24\n",
      "4 X 7 = 28\n",
      "4 X 8 = 32\n",
      "4 X 9 = 36\n",
      "\n",
      "5 X 1 = 5\n",
      "5 X 2 = 10\n",
      "5 X 3 = 15\n",
      "5 X 4 = 20\n",
      "5 X 5 = 25\n",
      "5 X 6 = 30\n",
      "5 X 7 = 35\n",
      "5 X 8 = 40\n",
      "5 X 9 = 45\n",
      "\n",
      "6 X 1 = 6\n",
      "6 X 2 = 12\n",
      "6 X 3 = 18\n",
      "6 X 4 = 24\n",
      "6 X 5 = 30\n",
      "6 X 6 = 36\n",
      "6 X 7 = 42\n",
      "6 X 8 = 48\n",
      "6 X 9 = 54\n",
      "\n",
      "7 X 1 = 7\n",
      "7 X 2 = 14\n",
      "7 X 3 = 21\n",
      "7 X 4 = 28\n",
      "7 X 5 = 35\n",
      "7 X 6 = 42\n",
      "7 X 7 = 49\n",
      "7 X 8 = 56\n",
      "7 X 9 = 63\n",
      "\n",
      "8 X 1 = 8\n",
      "8 X 2 = 16\n",
      "8 X 3 = 24\n",
      "8 X 4 = 32\n",
      "8 X 5 = 40\n",
      "8 X 6 = 48\n",
      "8 X 7 = 56\n",
      "8 X 8 = 64\n",
      "8 X 9 = 72\n",
      "\n",
      "9 X 1 = 9\n",
      "9 X 2 = 18\n",
      "9 X 3 = 27\n",
      "9 X 4 = 36\n",
      "9 X 5 = 45\n",
      "9 X 6 = 54\n",
      "9 X 7 = 63\n",
      "9 X 8 = 72\n",
      "9 X 9 = 81\n",
      "\n"
     ]
    }
   ],
   "source": [
    "for j in range(2,10):\n",
    "    for i in range(1,10):\n",
    "        print(f'{j} X {i} = {i*j}')\n",
    "    print()"
   ]
  },
  {
   "cell_type": "code",
   "execution_count": 22,
   "id": "f9f4170c",
   "metadata": {},
   "outputs": [
    {
     "name": "stdout",
     "output_type": "stream",
     "text": [
      "\n",
      "*\n",
      "**\n",
      "***\n",
      "****\n",
      "*****\n",
      "*****\n",
      "****\n",
      "***\n",
      "**\n",
      "*\n"
     ]
    }
   ],
   "source": [
    "for i in range(6):\n",
    "    print('*'*i)\n",
    "\n",
    "for i in range(5):\n",
    "    print('*'*(5-i))"
   ]
  },
  {
   "cell_type": "code",
   "execution_count": 47,
   "id": "0e6122aa",
   "metadata": {},
   "outputs": [
    {
     "name": "stdout",
     "output_type": "stream",
     "text": [
      "     *\n",
      "    ***\n",
      "   *****\n",
      "  *******\n",
      " *********\n",
      "***********\n",
      "     *\n",
      "     *\n",
      "     *\n"
     ]
    }
   ],
   "source": [
    "for i in range(9):\n",
    "    if i <=5:\n",
    "        print(\" \"*(5-i) + \"*\"*(i*2+1))\n",
    "    else:\n",
    "        print(\" \"*5 + '*')"
   ]
  },
  {
   "cell_type": "code",
   "execution_count": 48,
   "id": "284bb5a3",
   "metadata": {},
   "outputs": [
    {
     "name": "stdout",
     "output_type": "stream",
     "text": [
      "rd_numbers ==> [1, 63, 95, 90, 33, 69, 96, 67, 86, 50]\n",
      "322 328 [90, 50]\n"
     ]
    }
   ],
   "source": [
    "# 0~100 사이의 임의의 숫자10개중에서 짝수들의 합과 홀수들의 합을 구해서 출력\n",
    "# 2와 5의 공배수가 있으면 새로운 리스트에 담에서 출력\n",
    "# 2의 배수이면서 5의배수  (배수는 특정숫자로 나눠떨어지는 수   x % 숫자 == 0 )\n",
    "import random\n",
    "rd_nmumbers = random.sample(range(100),10)\n",
    "print(f'rd_numbers ==> {rd_numbers}')\n",
    "\n",
    "a = 0\n",
    "b = 0\n",
    "list_2_5 = []\n",
    "for i in rd_numbers:\n",
    "    if i % 2 == 0:\n",
    "        a = a + i  # 누적\n",
    "    else:\n",
    "        b = b + i  # 누적\n",
    "    if i % 2 == 0 and i % 5 == 0:\n",
    "        list_2_5.append(i)\n",
    "print(a,b,list_2_5)        \n",
    "\n"
   ]
  },
  {
   "cell_type": "code",
   "execution_count": 51,
   "id": "99b23603",
   "metadata": {},
   "outputs": [
    {
     "name": "stdout",
     "output_type": "stream",
     "text": [
      "0\n",
      "1\n",
      "2\n",
      "3\n",
      "4\n",
      "5\n"
     ]
    }
   ],
   "source": [
    "# 숫자 맞추기 게임\n",
    "for i in range(10):\n",
    "    print(i)\n",
    "    if i == 5:\n",
    "        break"
   ]
  },
  {
   "cell_type": "code",
   "execution_count": null,
   "id": "63715869",
   "metadata": {},
   "outputs": [
    {
     "data": {
      "text/plain": [
       "20"
      ]
     },
     "execution_count": 52,
     "metadata": {},
     "output_type": "execute_result"
    }
   ],
   "source": [
    "import random\n",
    "computer_number = random.randint(1,100)\n",
    "for i in range(10):\n",
    "    human_number = input()\n",
    "    if human_number == computer_number:\n",
    "        print(\"정답\", computer_number)\n",
    "        break\n",
    "    elif human_number > computer_number:\n",
    "        print(\"크다\")\n",
    "    else:\n",
    "        print(\"작다\")\n"
   ]
  },
  {
   "cell_type": "code",
   "execution_count": null,
   "id": "40dddf25",
   "metadata": {},
   "outputs": [],
   "source": []
  }
 ],
 "metadata": {
  "kernelspec": {
   "display_name": "base",
   "language": "python",
   "name": "python3"
  },
  "language_info": {
   "codemirror_mode": {
    "name": "ipython",
    "version": 3
   },
   "file_extension": ".py",
   "mimetype": "text/x-python",
   "name": "python",
   "nbconvert_exporter": "python",
   "pygments_lexer": "ipython3",
   "version": "3.13.5"
  }
 },
 "nbformat": 4,
 "nbformat_minor": 5
}

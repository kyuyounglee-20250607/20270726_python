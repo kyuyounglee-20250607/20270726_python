{
 "cells": [
  {
   "cell_type": "code",
   "execution_count": 2,
   "id": "ad0c8796",
   "metadata": {},
   "outputs": [
    {
     "name": "stdout",
     "output_type": "stream",
     "text": [
      "안녕하세요\n",
      "안녕하세요\n",
      "안녕하세요\n",
      "안녕하세요\n",
      "안녕하세요\n"
     ]
    }
   ],
   "source": [
    "# while 조건:\n",
    "    # 내용\n",
    "i = 0\n",
    "while i < 5:\n",
    "    print('안녕하세요')\n",
    "    i = i + 1"
   ]
  },
  {
   "cell_type": "code",
   "execution_count": 3,
   "id": "2919b578",
   "metadata": {},
   "outputs": [
    {
     "name": "stdout",
     "output_type": "stream",
     "text": [
      "안녕하세요\n"
     ]
    }
   ],
   "source": [
    "# 순환문을 강제 종료 및 건너뛰기  break continue\n",
    "while True:\n",
    "    print('안녕하세요')\n",
    "    break"
   ]
  },
  {
   "cell_type": "code",
   "execution_count": 4,
   "id": "79776109",
   "metadata": {},
   "outputs": [
    {
     "name": "stdout",
     "output_type": "stream",
     "text": [
      "사용자가 입력한 값 : 12\n",
      "사용자가 입력한 값 : hahaha\n",
      "사용자가 입력한 값 : hahaha\n",
      "사용자가 입력한 값 : 34343434\n"
     ]
    }
   ],
   "source": [
    "while True:\n",
    "    user_input = input('종료를 원하시면 q')\n",
    "    if user_input == 'q':\n",
    "        break\n",
    "    print(f'사용자가 입력한 값 : {user_input}')\n",
    "    "
   ]
  },
  {
   "cell_type": "code",
   "execution_count": null,
   "id": "00bde023",
   "metadata": {},
   "outputs": [
    {
     "name": "stdout",
     "output_type": "stream",
     "text": [
      "0\n",
      "2\n",
      "4\n",
      "6\n",
      "8\n",
      "10\n"
     ]
    }
   ],
   "source": [
    "# continue\n",
    "i = -1\n",
    "while i < 10:\n",
    "    i = i +1  # 순환문을 제어 \n",
    "    if i % 2 != 0:  #짝수\n",
    "         continue\n",
    "    print(i)   "
   ]
  },
  {
   "cell_type": "code",
   "execution_count": null,
   "id": "cda7000e",
   "metadata": {},
   "outputs": [],
   "source": [
    "# break 종료\n",
    "# continue : 루프의 다음  단계로 건너뛰기 \n",
    "count = 0\n",
    "while True:\n",
    "    print(count)\n",
    "    count = count + 1"
   ]
  },
  {
   "cell_type": "code",
   "execution_count": 18,
   "id": "91375e7c",
   "metadata": {},
   "outputs": [
    {
     "data": {
      "text/plain": [
       "30000000000.0"
      ]
     },
     "execution_count": 18,
     "metadata": {},
     "output_type": "execute_result"
    }
   ],
   "source": [
    "3e10"
   ]
  },
  {
   "cell_type": "code",
   "execution_count": 21,
   "id": "87ab4748",
   "metadata": {},
   "outputs": [
    {
     "data": {
      "text/plain": [
       "0.003"
      ]
     },
     "execution_count": 21,
     "metadata": {},
     "output_type": "execute_result"
    }
   ],
   "source": [
    "3e-3"
   ]
  },
  {
   "cell_type": "code",
   "execution_count": 22,
   "id": "8357fb87",
   "metadata": {},
   "outputs": [
    {
     "data": {
      "text/plain": [
       "3.3333333333333335"
      ]
     },
     "execution_count": 22,
     "metadata": {},
     "output_type": "execute_result"
    }
   ],
   "source": [
    "10/3"
   ]
  },
  {
   "cell_type": "code",
   "execution_count": null,
   "id": "18192c12",
   "metadata": {},
   "outputs": [
    {
     "name": "stdout",
     "output_type": "stream",
     "text": [
      "안녕하세요\n",
      "안녕하세요\n",
      "안녕하세요\n",
      "안녕하세요\n",
      "안녕하세요\n"
     ]
    }
   ],
   "source": [
    "for i in range(5):\n",
    "    print( \"안녕하세요\")"
   ]
  },
  {
   "cell_type": "code",
   "execution_count": 26,
   "id": "8f60ff38",
   "metadata": {},
   "outputs": [
    {
     "name": "stdout",
     "output_type": "stream",
     "text": [
      "0 < 5 ==>True  안녕하세요\n",
      "1 < 5 ==>True  안녕하세요\n",
      "2 < 5 ==>True  안녕하세요\n",
      "3 < 5 ==>True  안녕하세요\n",
      "4 < 5 ==>True  안녕하세요\n"
     ]
    }
   ],
   "source": [
    "i = 0\n",
    "while i < 5:\n",
    "    print(f'{i} < 5 ==>{i<5}  안녕하세요')\n",
    "    i = i+1"
   ]
  },
  {
   "cell_type": "code",
   "execution_count": 28,
   "id": "d29087ac",
   "metadata": {},
   "outputs": [
    {
     "name": "stdout",
     "output_type": "stream",
     "text": [
      "실행\n",
      "실행\n",
      "실행\n"
     ]
    }
   ],
   "source": [
    "# 1. 단순히 정해진 횟수만큼 순환할때..  ex) 특정 명령어또는 명령어 집합을 3번 반복\n",
    "# 이때 변수i는 블럭에서 사용되지 않는다라고하면  _ 로 대처해도 된다()\n",
    "for _ in range(3):\n",
    "    print('실행')"
   ]
  },
  {
   "cell_type": "code",
   "execution_count": 29,
   "id": "54e20b93",
   "metadata": {},
   "outputs": [],
   "source": [
    "# 2. 자료구조(리스트,튜플,set,딕셔너리) 데이터를 \n",
    "# 순차적으로  접근(읽어서)해서 사용할 때"
   ]
  },
  {
   "cell_type": "code",
   "execution_count": 30,
   "id": "89c59578",
   "metadata": {},
   "outputs": [],
   "source": [
    "list_1 = [4,3,6,5]\n",
    "tuple_1 = (3,2,23,4)\n",
    "set_1 = {3,5,7}\n",
    "dict_1 = {'서울':10000000,'대전':5000000}"
   ]
  },
  {
   "cell_type": "code",
   "execution_count": 34,
   "id": "203ed2ee",
   "metadata": {},
   "outputs": [
    {
     "name": "stdout",
     "output_type": "stream",
     "text": [
      "서울\n",
      "대전\n"
     ]
    }
   ],
   "source": [
    "for i in dict_1:\n",
    "    print(i)"
   ]
  },
  {
   "cell_type": "code",
   "execution_count": 35,
   "id": "5811325c",
   "metadata": {},
   "outputs": [
    {
     "name": "stdout",
     "output_type": "stream",
     "text": [
      "(10, 20)\n"
     ]
    }
   ],
   "source": [
    "a = 10,20\n",
    "print(a)"
   ]
  },
  {
   "cell_type": "code",
   "execution_count": 38,
   "id": "95a90150",
   "metadata": {},
   "outputs": [
    {
     "name": "stdout",
     "output_type": "stream",
     "text": [
      "10\n"
     ]
    }
   ],
   "source": [
    "a,b = 10,20\n",
    "print(a)"
   ]
  },
  {
   "cell_type": "code",
   "execution_count": 46,
   "id": "0f7546cf",
   "metadata": {},
   "outputs": [
    {
     "name": "stdout",
     "output_type": "stream",
     "text": [
      "1\n",
      "1\n",
      "2\n"
     ]
    }
   ],
   "source": [
    "list_1 = [ [1,2],[1,23],[2,3]  ]\n",
    "for a,_ in list_1:\n",
    "    print(a)"
   ]
  },
  {
   "cell_type": "code",
   "execution_count": 50,
   "id": "2c277c52",
   "metadata": {},
   "outputs": [
    {
     "name": "stdout",
     "output_type": "stream",
     "text": [
      "dict_items([('서울', 10000000), ('대전', 5000000)])\n",
      "key = 서울  value = 10000000\n",
      "key = 대전  value = 5000000\n"
     ]
    }
   ],
   "source": [
    "dict_1 = {'서울':10000000,'대전':5000000}\n",
    "print(  dict_1.items() )\n",
    "for k,v in dict_1.items():\n",
    "    print(f'key = {k}  value = {v}')"
   ]
  },
  {
   "cell_type": "code",
   "execution_count": 51,
   "id": "3f790386",
   "metadata": {},
   "outputs": [],
   "source": [
    "name,age = {'홍길동', 25}"
   ]
  },
  {
   "cell_type": "code",
   "execution_count": 59,
   "id": "654e57e2",
   "metadata": {},
   "outputs": [
    {
     "name": "stdout",
     "output_type": "stream",
     "text": [
      "현재까지 해야 할 일: ['보고서 작성', '회의 참석', '이메일 확인', '광고 이메일 삭제', '팀원 피드백 정리']\n",
      "현재까지 해야 할 일: ['회의 참석', '중요 이메일 확인', '광고 이메일 삭제', '팀원 피드백 정리']\n"
     ]
    }
   ],
   "source": [
    "# 리스트를 이용해서 To-Do  할일 목록\n",
    "# 할일을 추가, 완료되면 삭제, 중요도에 따라서 순서를 바꾼다\n",
    "todo_list = ['보고서 작성','회의 참석','이메일 확인','광고 이메일 삭제']\n",
    "# 새로운 할일 추가  \"팀원 피드백 정리\"\n",
    "todo_list.append('팀원 피드백 정리')\n",
    "# 현재까지 해야 할 일을 출력\n",
    "print(f'현재까지 해야 할 일: {todo_list}')\n",
    "# 첫번째 할 일을 완성 - 첫번째 항목을 삭제\n",
    "todo_list.pop(0)\n",
    "# '이메일 확인' -->'중요 이메일 확인' 정정\n",
    "find_index = todo_list.index('이메일 확인')\n",
    "todo_list[find_index] = '중요 이메일 확인'\n",
    "print(f'현재까지 해야 할 일: {todo_list}')\n",
    "# 리스트를 사용하는 이유\n",
    "# 데이터의 순서가 중요하고(리스트는 순서를 보장) 삭제 수정 추가가 빈번한 경우"
   ]
  },
  {
   "cell_type": "code",
   "execution_count": 60,
   "id": "f8ef6409",
   "metadata": {},
   "outputs": [
    {
     "name": "stdout",
     "output_type": "stream",
     "text": [
      "중요 이메일 확인\n",
      "광고 이메일 삭제\n"
     ]
    }
   ],
   "source": [
    "# 리스트 와 순환문\n",
    "# 리스트에 있는 요소중에 특정 요소를 찾아서 특정 행위를 할때\n",
    "# ex)이메일 문구가 포함된 할일을 모두 찾아서 출력 : '중요 이메일 확인', '광고 이메일 삭제',\n",
    "for task in todo_list:\n",
    "    if '이메일' in task:\n",
    "        print(task)"
   ]
  },
  {
   "cell_type": "code",
   "execution_count": 62,
   "id": "9c786ab8",
   "metadata": {},
   "outputs": [],
   "source": [
    "# 튜플 : 순서가 있지만 변경불가능(immutable)한 데이터의 모음\n",
    "# 한번생성되면 내용이 변하지 않아야 하는 데이터를 저장하는용도\n",
    "# 프로그램 실행중에 변하면 안되는 데이터(사번, 입사일,퇴사일, 좌표 위도경도) \n",
    "# 데이터베이스에서 가져온 정보(조회용)\n",
    "# 직원 ID, 이름, 부서\n",
    "employee = (100,'홍길동','개발팀')\n",
    "employee_id = employee[0]\n",
    "employee_name = employee[1]"
   ]
  },
  {
   "cell_type": "code",
   "execution_count": 63,
   "id": "87b2e210",
   "metadata": {},
   "outputs": [],
   "source": [
    "# 여러직원의 정보( id, 이름)를 리스트로 담는다\n",
    "employees = [ (100,'홍길동'),(101,'강감찬'),(102,'이순신') ]\n",
    "employees = [ [100,'홍길동'],[101,'강감찬'],[102,'이순신'] ]"
   ]
  },
  {
   "cell_type": "code",
   "execution_count": 64,
   "id": "5038924f",
   "metadata": {},
   "outputs": [
    {
     "name": "stdout",
     "output_type": "stream",
     "text": [
      "홍길동\n"
     ]
    }
   ],
   "source": [
    "# 딕셔너리  {key:value, key:value,key:value,key:value}\n",
    "# 웹 서비스에서 사용자 ID를 키로, 사용자의 이름,나이,이메일등의 값을 저장\n",
    "user_profile = {\n",
    "    'id' : 'user1234',\n",
    "    'name' : '홍길동',\n",
    "    'email' : 'abc@abc.com',    \n",
    "}\n",
    "# 사용자 이름 출력\n",
    "print( user_profile['name'])\n",
    "# 새로운 정보를 추가 is_premium  True\n",
    "user_profile['is_premium'] = True\n",
    "# email 을 다른 값으로 수정\n",
    "user_profile['email'] = 'aaa@aaa.com'\n",
    "\n",
    "# 딕셔너리 사용 이유 : 키를 이용해서 데이터를 빠르고 효율적으로 찾고 관리"
   ]
  },
  {
   "cell_type": "code",
   "execution_count": 75,
   "id": "e2ff2f72",
   "metadata": {},
   "outputs": [
    {
     "name": "stdout",
     "output_type": "stream",
     "text": [
      "key:id \t value:user1234\n",
      "key:name \t value:홍길동\n",
      "key:email \t value:aaa@aaa.com\n",
      "key:is_premium \t value:True\n"
     ]
    }
   ],
   "source": [
    "# 순환문을 이용해서 key:000   value:000 형태로 모든 요소를 출력\n",
    "# for key in user_profile:\n",
    "#     print(f'key:{key} \\t value:{user_profile[key]}')\n",
    "\n",
    "# for key,value in user_profile.items():\n",
    "#     print(f'key:{key} \\t value:{value}')\n",
    "\n",
    "for key_value in user_profile.items():\n",
    "    print(f'key:{key_value[0]} \\t value:{key_value[1]}')"
   ]
  },
  {
   "cell_type": "code",
   "execution_count": 84,
   "id": "86a5b0c1",
   "metadata": {},
   "outputs": [
    {
     "name": "stdout",
     "output_type": "stream",
     "text": [
      "방문한 사용자는 : {'b', 'a', 'c'} 사용자수 : 3\n",
      "{'b', 'a', 'c', 'h'}\n",
      "{'b', 'f', 'g', 'a', 'c', 'j', 'e', 'i', 'h'}\n",
      "{'b', 'f', 'g', 'a', 'c', 'e', 'h'}\n",
      "{'f', 'e', 'g'}\n"
     ]
    }
   ],
   "source": [
    "# set : 중복을 허용하지 않는다(내부에 중복을 제거하는 로직)\n",
    "# 순서를 보장하지 않는다 \n",
    "# 중복제거, 집합연산에 특화\n",
    "# 로그 파일에 사용자의 접속 기록이 아이디로 저장되어 있다고 한다면\n",
    "all_user_ids = ['a','b','c','a','b','c','b']\n",
    "# 방문한 사용자의 수\n",
    "unique_ids = set(all_user_ids)\n",
    "print(f'방문한 사용자는 : {unique_ids} 사용자수 : {len(unique_ids)}')\n",
    "july_visits = ['a','b','c','a','b','c','b','e','f','g','h']\n",
    "August_visits = ['a','b','c','a','b','c','b','h','i','j']\n",
    "# 7월 8월 모두 방문한 사용자\n",
    "print(set(july_visits) & set(August_visits))\n",
    "# 한번이라도 방문한 사용자\n",
    "print(set(july_visits) | set(August_visits))\n",
    "print(set(july_visits) or set(August_visits))\n",
    "# 7월에만 방문한 사용자\n",
    "print(set(july_visits) - set(August_visits))"
   ]
  },
  {
   "cell_type": "code",
   "execution_count": 129,
   "id": "94c6607b",
   "metadata": {},
   "outputs": [
    {
     "data": {
      "text/plain": [
       "['aaa', 'bbb']"
      ]
     },
     "execution_count": 129,
     "metadata": {},
     "output_type": "execute_result"
    }
   ],
   "source": [
    "[] or [] or ['aaa','bbb']"
   ]
  },
  {
   "cell_type": "code",
   "execution_count": 125,
   "id": "085ab00b",
   "metadata": {},
   "outputs": [
    {
     "data": {
      "text/plain": [
       "True"
      ]
     },
     "execution_count": 125,
     "metadata": {},
     "output_type": "execute_result"
    }
   ],
   "source": [
    "# Short-Cut-Evaluation  단락평가 --> 결과가 이미 정해지만 나머지 조건은 평가 안함\n",
    "# False and ....\n",
    "# True or ....\n",
    "# True and ....\n",
    "# False or ....\n",
    "True or print('오른쪽')"
   ]
  },
  {
   "cell_type": "code",
   "execution_count": 132,
   "id": "368d70a0",
   "metadata": {},
   "outputs": [
    {
     "data": {
      "text/plain": [
       "False"
      ]
     },
     "execution_count": 132,
     "metadata": {},
     "output_type": "execute_result"
    }
   ],
   "source": [
    "x = 0  # 만약에 값이 정해져 있지 않다라고 한다면\n",
    "x != 0 and  10 / x"
   ]
  },
  {
   "cell_type": "code",
   "execution_count": null,
   "id": "57f471f2",
   "metadata": {},
   "outputs": [
    {
     "name": "stdout",
     "output_type": "stream",
     "text": [
      "a\n"
     ]
    }
   ],
   "source": [
    "is_break = False\n",
    "for i in range(5):    \n",
    "    print('a')\n",
    "    if i == 3:\n",
    "        is_break = True\n",
    "        break\n",
    "    "
   ]
  },
  {
   "cell_type": "code",
   "execution_count": 140,
   "id": "65eb891e",
   "metadata": {},
   "outputs": [
    {
     "name": "stdout",
     "output_type": "stream",
     "text": [
      "[3, 4, 5, 6, 7]\n"
     ]
    }
   ],
   "source": [
    "temp = []\n",
    "for i in range(5):\n",
    "    temp.append(i+3)\n",
    "print(temp)    "
   ]
  },
  {
   "cell_type": "code",
   "execution_count": 141,
   "id": "6fe2cf4b",
   "metadata": {},
   "outputs": [
    {
     "name": "stdout",
     "output_type": "stream",
     "text": [
      "[3, 4, 5, 6, 7]\n"
     ]
    }
   ],
   "source": [
    "# list comprehension\n",
    "temp = [ i+3  for i in range(5)   ]\n",
    "print(temp)"
   ]
  },
  {
   "cell_type": "code",
   "execution_count": 188,
   "id": "2f2a64e9",
   "metadata": {},
   "outputs": [
    {
     "name": "stdout",
     "output_type": "stream",
     "text": [
      "[18, 5, 97, 30, 41]\n"
     ]
    }
   ],
   "source": [
    "import random\n",
    "random.randint(0,100)\n",
    "\n",
    "temp = [ random.randint(0,100)  for i in range(5)   ]\n",
    "print(temp)"
   ]
  },
  {
   "cell_type": "code",
   "execution_count": 190,
   "id": "a8cb6d47",
   "metadata": {},
   "outputs": [
    {
     "name": "stdout",
     "output_type": "stream",
     "text": [
      "[98, 20, 3, 75, 1, 8, 27, 83, 35, 92]\n",
      "[True, True, False, False, False, True, False, False, False, True]\n"
     ]
    }
   ],
   "source": [
    "import random\n",
    "rd_numbers = random.sample(range(100), 10)\n",
    "print(rd_numbers)\n",
    "\n",
    "temp = []\n",
    "for i in rd_numbers:\n",
    "    temp.append( i%2==0)\n",
    "\n",
    "print(temp)    "
   ]
  },
  {
   "cell_type": "code",
   "execution_count": 193,
   "id": "1f11cf13",
   "metadata": {},
   "outputs": [
    {
     "name": "stdout",
     "output_type": "stream",
     "text": [
      "[True, True, False, False, False, True, False, False, False, True]\n"
     ]
    }
   ],
   "source": [
    "temp = [ i%2==0  for i in rd_numbers ]\n",
    "print(temp)"
   ]
  },
  {
   "cell_type": "code",
   "execution_count": 194,
   "id": "25b6f84d",
   "metadata": {},
   "outputs": [
    {
     "name": "stdout",
     "output_type": "stream",
     "text": [
      "[17, 35, 77, 79, 78, 23, 75, 99, 60, 43]\n",
      "[78, 60]\n"
     ]
    }
   ],
   "source": [
    "import random\n",
    "rd_numbers = random.sample(range(100), 10)\n",
    "print(rd_numbers)\n",
    "\n",
    "temp = []\n",
    "for i in rd_numbers:\n",
    "    if i%2 == 0:\n",
    "        temp.append( i)\n",
    "\n",
    "print(temp)    "
   ]
  },
  {
   "cell_type": "code",
   "execution_count": 196,
   "id": "f50817b0",
   "metadata": {},
   "outputs": [
    {
     "data": {
      "text/plain": [
       "[78, 60]"
      ]
     },
     "execution_count": 196,
     "metadata": {},
     "output_type": "execute_result"
    }
   ],
   "source": [
    "[ i for i in rd_numbers if i%2==0 ]"
   ]
  },
  {
   "cell_type": "code",
   "execution_count": 197,
   "id": "8b7207ca",
   "metadata": {},
   "outputs": [
    {
     "data": {
      "text/plain": [
       "['홀수', '홀수', '홀수', '홀수', '짝수', '홀수', '홀수', '홀수', '짝수', '홀수']"
      ]
     },
     "execution_count": 197,
     "metadata": {},
     "output_type": "execute_result"
    }
   ],
   "source": [
    "[ \"짝수\" if i%2==0 else \"홀수\"  for i in rd_numbers   ]"
   ]
  },
  {
   "cell_type": "code",
   "execution_count": null,
   "id": "510b7c1b",
   "metadata": {},
   "outputs": [
    {
     "name": "stdout",
     "output_type": "stream",
     "text": [
      "[1, 1, 2, 1, 2, 2, 2, 1, 2, 1]\n"
     ]
    }
   ],
   "source": [
    "# input을 10번 입력받는다\n",
    "# 입력값은 1과 2 로 제한한다\n",
    "# 매 입력을 리스트에 저장한ㄷ\n",
    "# 모든 입력이 끝나면 리스트에 저장된 1과 2의 개수를 센다\n",
    "# 어느번호가 가장 큰지 출력한다\n",
    "vote = []\n",
    "for i in range(10):\n",
    "    number = int(input('1과 2중에서 원하는 번호를 선택하세요 : '))\n",
    "    vote.append(number)\n",
    "print(vote)\n",
    "# 입력 종료후 vote에 있는 1과 2의 출현 횟수를 구한다"
   ]
  },
  {
   "cell_type": "code",
   "execution_count": null,
   "id": "f9596b3e",
   "metadata": {},
   "outputs": [
    {
     "name": "stdout",
     "output_type": "stream",
     "text": [
      "1번 : 5  2번 : 5\n"
     ]
    }
   ],
   "source": [
    "# 순환하면서 값이 1이면 또는 2이면 준비된 변수의 값을 1씩 증가(누적)\n",
    "count_1, count_2 = 0,0\n",
    "for i in vote:\n",
    "    if i == 1:\n",
    "        # count_1 = count_1 + 1\n",
    "        count_1 += 1\n",
    "    else:\n",
    "        # count_2 = count_2 + 1\n",
    "        count_2 += 1\n",
    "print(f'1번 : {count_1}  2번 : {count_2}')"
   ]
  },
  {
   "cell_type": "code",
   "execution_count": 10,
   "id": "db31d8fc",
   "metadata": {},
   "outputs": [
    {
     "name": "stdout",
     "output_type": "stream",
     "text": [
      "[3, 5, 5, 1, 5, 1, 4, 3, 5, 3, 5, 1, 4, 1, 4, 2, 1, 1, 2, 1, 5, 2, 3, 3, 4, 1, 3, 2, 5, 4, 3, 3, 5, 5, 3, 2, 4, 1, 1, 2, 2, 5, 5, 1, 4, 2, 4, 3, 1, 1, 4, 3, 2, 5, 2, 2, 2, 2, 1, 4, 3, 1, 3, 4, 1, 5, 5, 2, 4, 3, 2, 2, 3, 3, 2, 1, 4, 4, 3, 1, 3, 2, 3, 2, 3, 5, 2, 5, 4, 3, 1, 4, 1, 2, 1, 4, 5, 1, 2, 2]\n"
     ]
    }
   ],
   "source": [
    "# 후보가 5명\n",
    "# 유권자는 100\n",
    "import random\n",
    "votes = [random.randint(1,5) for i in range(100)]\n",
    "print(votes)"
   ]
  },
  {
   "cell_type": "code",
   "execution_count": 11,
   "id": "43014799",
   "metadata": {},
   "outputs": [
    {
     "name": "stdout",
     "output_type": "stream",
     "text": [
      "{3: 21, 5: 17, 1: 22, 4: 17, 2: 23}\n"
     ]
    }
   ],
   "source": [
    "results = {}\n",
    "for i in votes:\n",
    "    if i not in results:\n",
    "        results[i] = 1\n",
    "    else:\n",
    "        results[i] += 1     \n",
    "print(results)           "
   ]
  },
  {
   "cell_type": "code",
   "execution_count": 19,
   "id": "dc6e2715",
   "metadata": {},
   "outputs": [
    {
     "name": "stdout",
     "output_type": "stream",
     "text": [
      "2 23\n"
     ]
    }
   ],
   "source": [
    "max_value, max_key = 0,0\n",
    "for key,value in results.items():\n",
    "    if max_value < value:\n",
    "        max_value = value\n",
    "        max_key = key\n",
    "\n",
    "print(max_key,max_value)"
   ]
  },
  {
   "cell_type": "code",
   "execution_count": null,
   "id": "fcff9006",
   "metadata": {},
   "outputs": [],
   "source": [
    "# 최초  max_vote = 0\n",
    "#       max_key = 0\n",
    "# dictionary를 순환하면서 매번 체크\n",
    "# if max_vote < 값:\n",
    "    # max_vote = 값\n",
    "    # max_key = 키\n",
    "\n"
   ]
  },
  {
   "cell_type": "code",
   "execution_count": 18,
   "id": "810165e7",
   "metadata": {},
   "outputs": [
    {
     "data": {
      "text/plain": [
       "2"
      ]
     },
     "execution_count": 18,
     "metadata": {},
     "output_type": "execute_result"
    }
   ],
   "source": [
    "sored_result = sorted(results.items(),key = lambda x : x[1],reverse=True)\n",
    "sored_result[0][0]"
   ]
  },
  {
   "cell_type": "code",
   "execution_count": 6,
   "id": "5384a0c2",
   "metadata": {},
   "outputs": [
    {
     "data": {
      "text/plain": [
       "Counter({4: 26, 1: 24, 3: 21, 5: 18, 2: 11})"
      ]
     },
     "execution_count": 6,
     "metadata": {},
     "output_type": "execute_result"
    }
   ],
   "source": [
    "import collections\n",
    "collections.Counter(results)"
   ]
  }
 ],
 "metadata": {
  "kernelspec": {
   "display_name": "base",
   "language": "python",
   "name": "python3"
  },
  "language_info": {
   "codemirror_mode": {
    "name": "ipython",
    "version": 3
   },
   "file_extension": ".py",
   "mimetype": "text/x-python",
   "name": "python",
   "nbconvert_exporter": "python",
   "pygments_lexer": "ipython3",
   "version": "3.13.5"
  }
 },
 "nbformat": 4,
 "nbformat_minor": 5
}

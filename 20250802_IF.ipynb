{
 "cells": [
  {
   "cell_type": "code",
   "execution_count": null,
   "id": "8e179833",
   "metadata": {},
   "outputs": [
    {
     "name": "stdout",
     "output_type": "stream",
     "text": [
      "음수\n"
     ]
    }
   ],
   "source": [
    "# 조건문\n",
    "# 변수의 값을 읽어서 0보다 크면 양수 출력\n",
    "# 그렇지 않으면 음수 출력\n",
    "\n",
    "number = -1\n",
    "if number >=0:\n",
    "    print(\"양수\")\n",
    "\n",
    "if number <=0:  # 실수를 유발할 수 있음\n",
    "    print(\"음수\")    "
   ]
  },
  {
   "cell_type": "code",
   "execution_count": null,
   "id": "d464852f",
   "metadata": {},
   "outputs": [],
   "source": [
    "number = -1\n",
    "if number >=0:\n",
    "    print(\"양수\")\n",
    "else:\n",
    "    print(\"음수\")    "
   ]
  },
  {
   "cell_type": "code",
   "execution_count": 8,
   "id": "c8409fa0",
   "metadata": {},
   "outputs": [],
   "source": [
    "# input() --> int()    나이를 입력받아서\n",
    "# 19세 이상이면 성인 그렇지  않으면 미성년   출력"
   ]
  },
  {
   "cell_type": "code",
   "execution_count": 10,
   "id": "e9fffca0",
   "metadata": {},
   "outputs": [
    {
     "name": "stdout",
     "output_type": "stream",
     "text": [
      "성인\n"
     ]
    }
   ],
   "source": [
    "age = int(input('나이를 정수로 입력하세요 : '))\n",
    "if age>=19:\n",
    "    print(\"성인\")\n",
    "else:\n",
    "    print(\"미성인\")"
   ]
  },
  {
   "cell_type": "code",
   "execution_count": 21,
   "id": "4748415e",
   "metadata": {},
   "outputs": [
    {
     "data": {
      "text/plain": [
       "[100, 100, 39]"
      ]
     },
     "execution_count": 21,
     "metadata": {},
     "output_type": "execute_result"
    }
   ],
   "source": [
    "# 조건식 확장-> 논리연산자 활용\n",
    "# and or not \n",
    "# and : 모든 조건이 참일때 전체 조건이 참\n",
    "# or : 하나라도 참일때 전체가 참\n",
    "# not : 반대  if not number>=50  -->  if numnber < 50\n",
    "\n",
    "# 사용로부터 점수를 각각 3개 입력하는데 공백을 기준으로 입력받는다\n",
    "# '90 95 55'  --> split()\n",
    "# map(int, 문자열 리스트)\n",
    "# scores = input('점수를 공백을 기준으로 3개 입력 : ').split()  -> ['90','95','55']\n",
    "# scores = list(map(int, scores))\n",
    "scores = input('공백을 기준으로 점수 3개 입력 : ').split()\n",
    "scores = list(map(int, scores))\n",
    "scores"
   ]
  },
  {
   "cell_type": "code",
   "execution_count": 22,
   "id": "7476178a",
   "metadata": {},
   "outputs": [
    {
     "name": "stdout",
     "output_type": "stream",
     "text": [
      "불합격\n"
     ]
    }
   ],
   "source": [
    "# 평균이 60이상 각 과목별 취득점수가 40이상이면 합격\n",
    "avg = sum(scores) / len(scores)\n",
    "if avg >=60 and scores[0]>=40 and scores[1]>=40 and scores[2]>=40:\n",
    "    print('합격')\n",
    "else:\n",
    "    print('불합격')"
   ]
  },
  {
   "cell_type": "code",
   "execution_count": null,
   "id": "1e2dd4e1",
   "metadata": {},
   "outputs": [
    {
     "name": "stdout",
     "output_type": "stream",
     "text": [
      "\n"
     ]
    }
   ],
   "source": [
    "if 50 <= avg or avg <= 88:\n",
    "    print('')"
   ]
  },
  {
   "cell_type": "code",
   "execution_count": null,
   "id": "82f158c4",
   "metadata": {},
   "outputs": [
    {
     "name": "stdout",
     "output_type": "stream",
     "text": [
      "총 800,000금액에서       8.0%할인율이 적용되어       최종 결재 금액은 736,000.0 입니다\n"
     ]
    }
   ],
   "source": [
    "# - 쇼핑몰 할인 적용\n",
    "# total_price = 사용자 입력\n",
    "# 총 구매액이 100만원 이상이면 10할인\n",
    "#    50 - 99  8프로 할인\n",
    "#    20 - 49  5프로 할인\n",
    "# 적용해서 최종 결재 금액을 출력\n",
    "total_price = int(input('총 구매금액 : '))\n",
    "discount_rate = 0.0\n",
    "if total_price >= 1000000:\n",
    "    discount_rate = 0.1\n",
    "elif total_price >= 500000:\n",
    "    discount_rate = 0.08\n",
    "elif total_price >= 200000:\n",
    "    discount_rate = 0.05\n",
    "else:\n",
    "    discount_rate = 0.0\n",
    "final_price = total_price - total_price*discount_rate\n",
    "print(f\"총 {total_price:,}금액에서 \\\n",
    "      {discount_rate*100}%할인율이 적용되어 \\\n",
    "      최종 결재 금액은 {final_price:,} 입니다\")"
   ]
  },
  {
   "cell_type": "code",
   "execution_count": 39,
   "id": "4afcee35",
   "metadata": {},
   "outputs": [],
   "source": [
    "# - 데이터 유효성 검사\n",
    "# 나이를 입력받는데... 음수, 너무 큰값"
   ]
  },
  {
   "cell_type": "code",
   "execution_count": null,
   "id": "8ca93cdb",
   "metadata": {},
   "outputs": [
    {
     "name": "stdout",
     "output_type": "stream",
     "text": [
      "-8 음수\n"
     ]
    }
   ],
   "source": [
    "# 난수발생기를 이용해서 임의의 숫자를 입력받는다\n",
    "import random\n",
    "rd_number = random.randint(-10,11)\n",
    "if rd_number >=0:\n",
    "    check = '양수'\n",
    "else:\n",
    "    check = '음수'\n",
    "print(rd_number,check)    "
   ]
  },
  {
   "cell_type": "code",
   "execution_count": null,
   "id": "c4a81b66",
   "metadata": {},
   "outputs": [],
   "source": [
    "check = '양수' if rd_number >=0 else '음수'"
   ]
  },
  {
   "cell_type": "code",
   "execution_count": 74,
   "id": "a34f555d",
   "metadata": {},
   "outputs": [
    {
     "data": {
      "text/plain": [
       "True"
      ]
     },
     "execution_count": 74,
     "metadata": {},
     "output_type": "execute_result"
    }
   ],
   "source": [
    "a = '10.0'\n",
    "isinstance(a, str)"
   ]
  },
  {
   "cell_type": "code",
   "execution_count": null,
   "id": "68882299",
   "metadata": {},
   "outputs": [
    {
     "name": "stdout",
     "output_type": "stream",
     "text": [
      "True\n",
      "True\n",
      "False\n",
      "True\n",
      "False\n"
     ]
    }
   ],
   "source": [
    "# 사용자 입력은   \n",
    "# 10\n",
    "# 12.5\n",
    "# ' ',  abc  아아\n",
    "print('10q'.isalnum())  # 알파벳과 정수 조합\n",
    "print('10'.isnumeric()) # 정수형\n",
    "print('10.5'.isalpha()) # 알파벳\n",
    "print('abc'.isalpha()) # 알파벳\n",
    "print('abc123'.isalpha()) # 알파벳"
   ]
  },
  {
   "cell_type": "code",
   "execution_count": 115,
   "id": "ef645ba1",
   "metadata": {},
   "outputs": [
    {
     "name": "stdout",
     "output_type": "stream",
     "text": [
      "<class 'str'>\n"
     ]
    }
   ],
   "source": [
    "number = input()\n",
    "# 정수면  int 로 변환해서 출력\n",
    "# 실수면 float 로 변환해서 출력\n",
    "# 그렇지 않은 나머지는 그래도 출력\n",
    "\n",
    "# 풀이\n",
    "# 사용자가 입력한 값이 정수로만 구성되었는지 확인 -> int\n",
    "# 그렇지 않은경우 .을 기준으로  split 을 이용해서 분할한다음\n",
    "# 각각의 문자열이 정수인지 판단해서 전부 True이면  -> float\n",
    "\n",
    "if number.isnumeric():\n",
    "    number = int(number)\n",
    "else:\n",
    "    numbers = number.split('.')\n",
    "    if number[0].isnumeric() and number[1].isnumeric():\n",
    "        number = float(number)\n",
    "\n",
    "print(type(number))\n"
   ]
  },
  {
   "cell_type": "code",
   "execution_count": 109,
   "id": "59e8acae",
   "metadata": {},
   "outputs": [
    {
     "name": "stdout",
     "output_type": "stream",
     "text": [
      "체온이 높습니다. 병원에 가세요\n"
     ]
    }
   ],
   "source": [
    "# 예제\n",
    "# \n",
    "temp = 37.5\n",
    "if temp > 37:\n",
    "    print('체온이 높습니다. 병원에 가세요')"
   ]
  },
  {
   "cell_type": "code",
   "execution_count": 110,
   "id": "50b0f367",
   "metadata": {},
   "outputs": [
    {
     "name": "stdout",
     "output_type": "stream",
     "text": [
      "환영합니다.\n"
     ]
    }
   ],
   "source": [
    "# if else\n",
    "if_loggined_in = True\n",
    "if if_loggined_in:\n",
    "    print('환영합니다.')\n",
    "else:\n",
    "    print('로그인을 하세요')"
   ]
  },
  {
   "cell_type": "code",
   "execution_count": 111,
   "id": "6ad6a78c",
   "metadata": {},
   "outputs": [
    {
     "name": "stdout",
     "output_type": "stream",
     "text": [
      "활성화 되었습니다.\n"
     ]
    }
   ],
   "source": [
    "is_activate = True\n",
    "if is_activate:\n",
    "    print('활성화 되었습니다.')"
   ]
  },
  {
   "cell_type": "code",
   "execution_count": 112,
   "id": "7e33498c",
   "metadata": {},
   "outputs": [
    {
     "name": "stdout",
     "output_type": "stream",
     "text": [
      "성인 학생입니다.\n"
     ]
    }
   ],
   "source": [
    "# 논리연산  and or not\n",
    "is_adult = True\n",
    "is_student = True\n",
    "if is_adult and is_student:\n",
    "    print('성인 학생입니다.')\n"
   ]
  },
  {
   "cell_type": "code",
   "execution_count": null,
   "id": "f138a78a",
   "metadata": {},
   "outputs": [],
   "source": [
    "import random\n",
    "rd_number = random.randint(0,100)\n",
    "# rd_number 가 50보다 크고 3의 배수이면 True 를 출력하고 그렇지 않으면 Flase 출력\n"
   ]
  }
 ],
 "metadata": {
  "kernelspec": {
   "display_name": "base",
   "language": "python",
   "name": "python3"
  },
  "language_info": {
   "codemirror_mode": {
    "name": "ipython",
    "version": 3
   },
   "file_extension": ".py",
   "mimetype": "text/x-python",
   "name": "python",
   "nbconvert_exporter": "python",
   "pygments_lexer": "ipython3",
   "version": "3.13.5"
  }
 },
 "nbformat": 4,
 "nbformat_minor": 5
}

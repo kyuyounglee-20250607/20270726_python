{
 "cells": [
  {
   "cell_type": "code",
   "execution_count": 14,
   "id": "a8e4d337",
   "metadata": {},
   "outputs": [
    {
     "name": "stdout",
     "output_type": "stream",
     "text": [
      "실행중\n",
      "실행중\n",
      "1\n",
      "0.16\n",
      "2\n",
      "3\n",
      "실행중\n",
      "실행중\n"
     ]
    }
   ],
   "source": [
    "print(\"실행중\")\n",
    "print(\"실행중\")\n",
    "num1,num2 = '4','25'\n",
    "try:\n",
    "    print(1)\n",
    "    print(int(num1) / int(num2))    # 예외발생\n",
    "    print(2)\n",
    "    print(3)\n",
    "except:\n",
    "    print(\"예외가 발생했습니다.\")\n",
    "print(\"실행중\")\n",
    "print(\"실행중\")"
   ]
  },
  {
   "cell_type": "code",
   "execution_count": 159,
   "id": "1edb6fbc",
   "metadata": {},
   "outputs": [
    {
     "name": "stdout",
     "output_type": "stream",
     "text": [
      "발생한 예외 수는 : 3\n"
     ]
    }
   ],
   "source": [
    "#  try ~ except\n",
    "# 순환문으로 100번 실행\n",
    "    # 두개의 변수에 0을포함하는 랜덤한 값을 할당\n",
    "    # / 연산을 해서 오류가발생하면 카운트한다\n",
    "#순환문 종료후에 오류가 몇번 발생했는지 카운트 출력\n",
    "import random\n",
    "cnt = 0\n",
    "for i in range(100):    \n",
    "    num1 = random.randint(0,20)\n",
    "    num2 = random.randint(0,20)\n",
    "    try:\n",
    "        num1/num2\n",
    "    except:\n",
    "        cnt += 1  # cnt = cnt + 1\n",
    "print(f'발생한 예외 수는 : {cnt}')"
   ]
  },
  {
   "cell_type": "code",
   "execution_count": 161,
   "id": "aff454a0",
   "metadata": {},
   "outputs": [
    {
     "data": {
      "text/plain": [
       "[1, 2, 3, 1, 2, 'abc', [1, 2], (1, 2)]"
      ]
     },
     "execution_count": 161,
     "metadata": {},
     "output_type": "execute_result"
    }
   ],
   "source": [
    "list_1 = [1,2,3,'1','2','abc',[1,2],(1,2)]\n",
    "for index, i in enumerate(list_1):\n",
    "    try:\n",
    "        list_1[index] = int(i)\n",
    "    except:\n",
    "        pass\n",
    "list_1        "
   ]
  },
  {
   "cell_type": "code",
   "execution_count": null,
   "id": "7ea17387",
   "metadata": {},
   "outputs": [],
   "source": [
    "'''\n",
    "try:\n",
    "    이 부분에 예외가 발생할 가능성이  있는 코드\n",
    "    ex 사용자입력받기, 파일열기, 기타 등등\n",
    "except:\n",
    "    예외가 발생했을때 실행할 코드\n",
    "'''"
   ]
  },
  {
   "cell_type": "code",
   "execution_count": 164,
   "id": "8905de72",
   "metadata": {},
   "outputs": [
    {
     "name": "stdout",
     "output_type": "stream",
     "text": [
      "잘못된 입력입니다.  숫자를 넣어주세요\n"
     ]
    }
   ],
   "source": [
    "number = input('숫자를 입력하세요')\n",
    "try:\n",
    "    # 이 부분에 예외가 발생할수 있는 코드를 넣어보세요\n",
    "    # number 를 숫자로 변환하는 코드를 생각보세요\n",
    "    int(number)\n",
    "    print('변환 성공')\n",
    "except:\n",
    "    print('잘못된 입력입니다.  숫자를 넣어주세요')"
   ]
  },
  {
   "cell_type": "code",
   "execution_count": 168,
   "id": "07696bf8",
   "metadata": {},
   "outputs": [],
   "source": [
    "# except 는 여러개 쓸수 있습니다.\n",
    "# 어느 except 로 처리하는지 여부는 오류의 종류에 따라\n",
    "# except 오류타입:"
   ]
  },
  {
   "cell_type": "code",
   "execution_count": 172,
   "id": "98c45b3e",
   "metadata": {},
   "outputs": [
    {
     "name": "stdout",
     "output_type": "stream",
     "text": [
      "숫자만 입력 가능합니다.\n",
      "프로그램이 계속 실행됩니다\n"
     ]
    }
   ],
   "source": [
    "# 숫자가아닌 문자를 입력하면 ValueError\n",
    "# 0으로 나눌때 ZeroDivisionError\n",
    "# 두가지 예외를 처리하려면 어떻게?\n",
    "try:\n",
    "    num1 = int(input('숫자 입력'))\n",
    "    num2 = int(input('숫자 입력'))\n",
    "    print(f'{num1} / {num2} = {num1/num2}')\n",
    "except ValueError:\n",
    "    print('숫자만 입력 가능합니다.')\n",
    "except ZeroDivisionError:\n",
    "    print('0으로 나눌수 없습니다')\n",
    "\n",
    "print('프로그램이 계속 실행됩니다')"
   ]
  },
  {
   "cell_type": "code",
   "execution_count": 177,
   "id": "55e18af2",
   "metadata": {},
   "outputs": [
    {
     "name": "stdout",
     "output_type": "stream",
     "text": [
      "예외가 발생했습니다. list index out of range\n"
     ]
    }
   ],
   "source": [
    "# 여러종류의 예외가 발생했을때 하나의  exception 에서 처리\n",
    "# 어떤 에러인지도 확인하려면\n",
    "try:\n",
    "    # 예외 발생 가능성이 있는 코드\n",
    "    a = [1,2]\n",
    "    a[100]\n",
    "except Exception as e:\n",
    "    print(f'예외가 발생했습니다. {e}')"
   ]
  },
  {
   "cell_type": "code",
   "execution_count": null,
   "id": "19de3400",
   "metadata": {},
   "outputs": [],
   "source": [
    "# 두수를 입력받아서 나눗셈 \n",
    "# 발생가능성이 있는 예외는 \n",
    "# ValueError, ZeroDivisonError\n",
    "# 두가지 모두 처리로직이 같다면?\n",
    "# 예외가 발생하던 안하던 공통적으로 실행되는 코드가 있다면\n",
    "try:  # '10 20'\n",
    "    temp = input('공백을 기준으로 숫자 두개입력').split()\n",
    "    # ['10','20']\n",
    "    num1,num2 =  map(int ,temp)\n",
    "    print(num1 / num2)\n",
    "except (ValueError,ZeroDivisionError):\n",
    "    print('입력값을 확인 해 주세요')\n",
    "finally:\n",
    "    print('프로그램이 종료됩니다. 감사합니다.')    "
   ]
  },
  {
   "cell_type": "code",
   "execution_count": 179,
   "id": "61bf64ea",
   "metadata": {},
   "outputs": [
    {
     "data": {
      "text/plain": [
       "(10, 20)"
      ]
     },
     "execution_count": 179,
     "metadata": {},
     "output_type": "execute_result"
    }
   ],
   "source": [
    "temp = input('공백을 기준으로 숫자 두개입력').split()\n",
    "# ['10','20']\n",
    "num1,num2 =  map(int ,temp)\n",
    "num1,num2"
   ]
  },
  {
   "cell_type": "code",
   "execution_count": 201,
   "id": "dbc3a435",
   "metadata": {},
   "outputs": [
    {
     "name": "stdout",
     "output_type": "stream",
     "text": [
      "오류발생 0보다 큰 값을 입력하세요\n"
     ]
    }
   ],
   "source": [
    "# raise 키워드를 이용해서 직접 오류를 발생\n",
    "# 원하는 상황에서 의도렂그올 예외를 발생시키고 그걸 감지해서\n",
    "# 적절한 처리를 하기위해\n",
    "try:\n",
    "    number = input('양의 정수를 입력')\n",
    "    # 사용자가 음수를 입력하면 예외를 발생시킨다\n",
    "    # int(number)\n",
    "    if int(number) <=0:\n",
    "        raise ValueError('0보다 큰 값을 입력하세요')\n",
    "    elif int(number) >=100:\n",
    "        raise ValueError('100보다 작은 값을 입력하세요')\n",
    "\n",
    "except ValueError as e:\n",
    "    print(f'오류발생 {e}')"
   ]
  },
  {
   "cell_type": "code",
   "execution_count": null,
   "id": "83b245e4",
   "metadata": {},
   "outputs": [
    {
     "name": "stdout",
     "output_type": "stream",
     "text": [
      "파일을 찾을수 없습니다. 다시 시도해 주세요\n",
      "----------\n",
      "안녕하세요\n",
      "반갑습니다\n"
     ]
    }
   ],
   "source": [
    "# 파일 열기\n",
    "while True:\n",
    "    file_name = input('파일명 입력')\n",
    "    try:\n",
    "        with open(file_name, 'r') as f:\n",
    "            content =  f.read()\n",
    "            print('-'*10) # ---------------\n",
    "            print(content)\n",
    "        break\n",
    "    except FileNotFoundError as e:\n",
    "        print('파일을 찾을수 없습니다. 다시 시도해 주세요')"
   ]
  },
  {
   "cell_type": "code",
   "execution_count": 211,
   "id": "ce26b465",
   "metadata": {},
   "outputs": [
    {
     "name": "stdout",
     "output_type": "stream",
     "text": [
      "입력하신 숫자는 10 입니다\n"
     ]
    }
   ],
   "source": [
    "try:\n",
    "    number = int(input('숫자를 입력하세요'))\n",
    "except ValueError:\n",
    "    print('잘못된 입력입니다. 숫자만 입력하세요')\n",
    "else:\n",
    "    # try 블럭에서 예외가 발생하지 않았을때\n",
    "    print(f'입력하신 숫자는 {number} 입니다')"
   ]
  },
  {
   "cell_type": "code",
   "execution_count": null,
   "id": "b161a3ec",
   "metadata": {},
   "outputs": [
    {
     "name": "stdout",
     "output_type": "stream",
     "text": [
      "오류발생 허용되는 확장자 txt|doc|hwp\n"
     ]
    }
   ],
   "source": [
    "# 사용자가 입력한 파일이(파일명.확장자)\n",
    "# 확장자가 txt doc hwp 가 아니면\n",
    "# ValueError 를 발생하고 경고 메세지를 출력한후\n",
    "# 다시 입력을 받는 과정을 반복한다\n",
    "# 이때 허용된 확장자를 가진 파일명이 입력되면 \n",
    "# 더 이상 묻지 않는다\n",
    "extention_lists = ['txt','doc','hwp']\n",
    "\n",
    "while True:\n",
    "    try:\n",
    "        number = input('파일명 : ')\n",
    "        # extention = number[-3:]\n",
    "        extention = number.split('.')[-1]\n",
    "        if not extention in extention_lists:\n",
    "            raise ValueError('허용되는 확장자 txt|doc|hwp')\n",
    "        break\n",
    "    except ValueError as e:\n",
    "        print(f'오류발생 {e}')\n"
   ]
  },
  {
   "cell_type": "code",
   "execution_count": null,
   "id": "c3cf37a3",
   "metadata": {},
   "outputs": [],
   "source": []
  }
 ],
 "metadata": {
  "kernelspec": {
   "display_name": "base",
   "language": "python",
   "name": "python3"
  },
  "language_info": {
   "codemirror_mode": {
    "name": "ipython",
    "version": 3
   },
   "file_extension": ".py",
   "mimetype": "text/x-python",
   "name": "python",
   "nbconvert_exporter": "python",
   "pygments_lexer": "ipython3",
   "version": "3.13.5"
  }
 },
 "nbformat": 4,
 "nbformat_minor": 5
}

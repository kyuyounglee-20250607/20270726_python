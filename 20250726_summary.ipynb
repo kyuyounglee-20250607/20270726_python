{
 "cells": [
  {
   "cell_type": "markdown",
   "metadata": {
    "id": "QjcKPdRXbc-t"
   },
   "source": [
    "```\n",
    "input\n",
    "print\n",
    "변수만들기(정수,실수,문자열, bool)\n",
    "  변수명 = 값\n",
    "변수 타입 변경하기\n",
    "  int() float() str() bool()\n",
    "타입확인하기\n",
    "  type()\n",
    "```"
   ]
  },
  {
   "cell_type": "code",
   "execution_count": null,
   "metadata": {
    "id": "ik_8yxPFbqvf"
   },
   "outputs": [],
   "source": [
    "# input사용해 보기\n",
    "# 국어 엉어 수학 점수를 정수로 받아서 총점과 평균을 각각 적당한 변수에 저장하고 출력\n",
    "# kor, eng, ma\n",
    "# total, avg"
   ]
  },
  {
   "cell_type": "code",
   "execution_count": null,
   "metadata": {
    "colab": {
     "base_uri": "https://localhost:8080/"
    },
    "id": "I-MmCVVlc6Jy",
    "outputId": "cfa1d305-8308-458c-c6a4-1b7060b9173d"
   },
   "outputs": [],
   "source": [
    "kor = int(input('국어점수 : '))  # 90\n",
    "eng = int(input('영어점수 : ')) # 95\n",
    "ma = int(input('수학점수 : '))  # 98\n",
    "SIZE = 3\n",
    "# kor = int(kor)\n",
    "# eng = int(eng)\n",
    "# ma = int(ma)\n",
    "total = kor + eng + ma\n",
    "avg = total / SIZE\n",
    "print('총점 : ', total)\n",
    "print('평균 : ', round(avg,2) )\n"
   ]
  },
  {
   "cell_type": "code",
   "execution_count": null,
   "metadata": {
    "id": "ZGNLrD6bgw9p"
   },
   "outputs": [],
   "source": [
    "#  관리비 고지서 출력하는 프로그램\n",
    "#  출력양식\n",
    "\n",
    "# dong, ho, month, price  -> input으로 입력받아서\n",
    "#  000동 000호 00월 관리비는 000 입니다.  --> 이런형태로 출력\n",
    "\n"
   ]
  },
  {
   "cell_type": "code",
   "execution_count": null,
   "metadata": {
    "colab": {
     "base_uri": "https://localhost:8080/",
     "height": 35
    },
    "id": "3VYYAYS4jTD9",
    "outputId": "72757b47-868b-4710-afe4-7f7ff667fafe"
   },
   "outputs": [],
   "source": [
    "price = 2500000000000  # 25,000\n",
    "f\"{price:,.0f}\""
   ]
  },
  {
   "cell_type": "code",
   "execution_count": null,
   "metadata": {
    "id": "n2pzYxShmKEz"
   },
   "outputs": [],
   "source": []
  }
 ],
 "metadata": {
  "colab": {
   "provenance": []
  },
  "kernelspec": {
   "display_name": "Python 3",
   "name": "python3"
  },
  "language_info": {
   "name": "python"
  }
 },
 "nbformat": 4,
 "nbformat_minor": 0
}

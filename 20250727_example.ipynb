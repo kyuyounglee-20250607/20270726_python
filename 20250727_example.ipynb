{
 "cells": [
  {
   "cell_type": "code",
   "execution_count": null,
   "id": "0",
   "metadata": {},
   "outputs": [],
   "source": [
    "# 리스트\n",
    "# 튜플\n",
    "# set\n",
    "# 딕셔너리\n",
    "# 얕은복사 vs 깊은복사"
   ]
  },
  {
   "cell_type": "code",
   "execution_count": null,
   "id": "1",
   "metadata": {},
   "outputs": [],
   "source": [
    "# 1. 임의의 리스트를 생성\n",
    "import random\n",
    "lst1 = random.sample(range(100),20)\n",
    "# 2. 특정 인덱스의 값을 출력\n",
    "print(lst1[-1])\n",
    "# 3. 슬라이싱을 이용해서 범위의 값을 출력\n",
    "print(lst1[-5:])\n",
    "# len을 이용해서 갯수 출력\n",
    "print(len(lst1))\n",
    "# 4. 특정 인덱스의 값을 업데이트\n",
    "lst1[0] = '첫번째 데이터'\n",
    "print(lst1)\n",
    "# 5. 특정 값을 삭제\n",
    "lst1.remove(50)\n",
    "print(lst1)\n",
    "# 6. 특정 인덱스의 값을 삭제하고 삭제된 값을 새로운 변수에 저장해서 출력\n",
    "removed_last_value = lst1.pop()\n",
    "print(removed_last_value)\n",
    "# 7. 새로운 값을 맨 마지막에 추가, 그리고 특정 인덱스에 끼워넣기\n",
    "lst1.append(100)\n",
    "print(lst1)\n",
    "# 8. 기존 리스트를 새로운 리스트변수에 얕은복사, 깊은복사 \n",
    "copy_lst1 = lst1\n",
    "deep_lst1 = lst1.copy()"
   ]
  },
  {
   "cell_type": "code",
   "execution_count": null,
   "id": "2",
   "metadata": {},
   "outputs": [],
   "source": [
    "temp = [1,2]"
   ]
  },
  {
   "cell_type": "code",
   "execution_count": null,
   "id": "3",
   "metadata": {},
   "outputs": [],
   "source": [
    "if 1 in temp:\n",
    "    temp.remove(1)\n",
    "    print('이문장 실행되나요?')\n",
    "\n",
    "print(temp)"
   ]
  },
  {
   "cell_type": "code",
   "execution_count": null,
   "id": "4",
   "metadata": {},
   "outputs": [],
   "source": [
    "# 딕셔너리\n",
    "# 사용자로부터 국어 영어 수학 점수를 받아서 \n",
    "scores = input('국어 영어 수학점수를 공백을 기준으로 한줄로 입력하세요 : ').split()\n",
    "student = {}\n",
    "student['kor'] = int(scores[0])\n",
    "student['eng'] = int(scores[1])\n",
    "student['math'] = int(scores[2])\n",
    "# student  변수에 각 과목별 점수를 입력해서 dictionay 구조를 만들고 출력\n",
    "print(scores)"
   ]
  },
  {
   "cell_type": "code",
   "execution_count": null,
   "id": "5",
   "metadata": {},
   "outputs": [],
   "source": [
    "scores = input('국어 영어 수학점수를 공백을 기준으로 한줄로 입력하세요 : ').split()\n",
    "subjects = ['국어','영어','수학']\n",
    "scores = map(int, scores)\n",
    "result = list(zip(subjects,scores))\n",
    "result"
   ]
  },
  {
   "cell_type": "code",
   "execution_count": null,
   "id": "6",
   "metadata": {},
   "outputs": [],
   "source": [
    "dict(result)"
   ]
  },
  {
   "cell_type": "code",
   "execution_count": null,
   "id": "7",
   "metadata": {},
   "outputs": [],
   "source": [
    "scores =   ['90', '95', '98']\n",
    "list(map(int, scores))"
   ]
  },
  {
   "cell_type": "code",
   "execution_count": null,
   "id": "8",
   "metadata": {},
   "outputs": [],
   "source": []
  }
 ],
 "metadata": {
  "kernelspec": {
   "display_name": "base",
   "language": "python",
   "name": "python3"
  },
  "language_info": {
   "codemirror_mode": {
    "name": "ipython",
    "version": 3
   },
   "file_extension": ".py",
   "mimetype": "text/x-python",
   "name": "python",
   "nbconvert_exporter": "python",
   "pygments_lexer": "ipython3",
   "version": "3.13.5"
  }
 },
 "nbformat": 4,
 "nbformat_minor": 5
}

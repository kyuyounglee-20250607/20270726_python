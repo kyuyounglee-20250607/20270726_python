{
 "cells": [
  {
   "cell_type": "code",
   "execution_count": null,
   "id": "65e44ed1",
   "metadata": {},
   "outputs": [],
   "source": [
    "# 리스트\n",
    "# 튜플\n",
    "# set\n",
    "# 딕셔너리\n",
    "# 얕은복사 vs 깊은복사"
   ]
  },
  {
   "cell_type": "code",
   "execution_count": null,
   "id": "0c842d8f",
   "metadata": {},
   "outputs": [],
   "source": [
    "# 1. 임의의 리스트를 생성\n",
    "# 2. 특정 인덱스의 값을 출력\n",
    "# 3. 슬라이싱을 이용해서 범위의 값을 출력\n",
    "# len을 이용해서 갯수 출력\n",
    "# 4. 특정 인덱스의 값을 업데이트\n",
    "# 5. 특정 값을 삭제\n",
    "# 6. 특정 인덱스의 값을 삭제하고 삭제된 값을 새로운 변수에 저장해서 출력\n",
    "# 7. 새로운 값을 맨 마지막에 추가, 그리고 특정 인덱스에 끼워넣기\n",
    "# 8. 기존 리스트를 새로운 리스트변수에 얕은복사, 깊은복사 "
   ]
  }
 ],
 "metadata": {
  "kernelspec": {
   "display_name": "base",
   "language": "python",
   "name": "python3"
  },
  "language_info": {
   "codemirror_mode": {
    "name": "ipython",
    "version": 3
   },
   "file_extension": ".py",
   "mimetype": "text/x-python",
   "name": "python",
   "nbconvert_exporter": "python",
   "pygments_lexer": "ipython3",
   "version": "3.13.5"
  }
 },
 "nbformat": 4,
 "nbformat_minor": 5
}

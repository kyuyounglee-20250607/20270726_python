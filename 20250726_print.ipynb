{
 "cells": [
  {
   "cell_type": "markdown",
   "metadata": {
    "id": "2647a683"
   },
   "source": [
    "### 1. `print()` 함수의 기본 사용법\n",
    "\n",
    "`print()` 함수는 괄호 안에 있는 내용을 화면에 출력하는 가장 기본적인 파이썬 함수입니다."
   ]
  },
  {
   "cell_type": "code",
   "execution_count": null,
   "metadata": {
    "colab": {
     "base_uri": "https://localhost:8080/"
    },
    "id": "36d0f5d4",
    "outputId": "17fba3a0-9dcc-4efd-d438-d25a13f796a3"
   },
   "outputs": [],
   "source": [
    "print(\"안녕하세요!\")"
   ]
  },
  {
   "cell_type": "markdown",
   "metadata": {
    "id": "8163fdc6"
   },
   "source": [
    "### 2. 문자열, 숫자, 변수 출력 방법\n",
    "\n",
    "`print()` 함수는 문자열, 숫자, 그리고 변수에 저장된 값을 출력할 수 있습니다."
   ]
  },
  {
   "cell_type": "code",
   "execution_count": null,
   "metadata": {
    "colab": {
     "base_uri": "https://localhost:8080/"
    },
    "id": "32671053",
    "outputId": "3641de5f-b239-48be-d116-31fa91d2112c"
   },
   "outputs": [],
   "source": [
    "# 문자열 출력\n",
    "print(\"파이썬 학습 시작!\")\n",
    "\n",
    "# 숫자 출력\n",
    "print(123)\n",
    "print(3.14)\n",
    "\n",
    "# 변수 출력\n",
    "message = \"변수 값 출력하기\"\n",
    "number = 10\n",
    "pi = 3.14159\n",
    "\n",
    "print(message)\n",
    "print(number)\n",
    "print(pi)"
   ]
  },
  {
   "cell_type": "markdown",
   "metadata": {
    "id": "1bd20646"
   },
   "source": [
    "### 3. 여러 값을 한 줄에 출력하는 방법 (콤마 사용)\n",
    "\n",
    "여러 개의 값을 콤마(`,`)로 구분하여 `print()` 함수 안에 넣으면 한 줄에 공백을 두고 출력됩니다."
   ]
  },
  {
   "cell_type": "code",
   "execution_count": null,
   "metadata": {
    "colab": {
     "base_uri": "https://localhost:8080/"
    },
    "id": "134fb593",
    "outputId": "9e1f06d9-17a2-4958-8d3b-21fe0279ff90"
   },
   "outputs": [],
   "source": [
    "print(\"이름:\", \"김파이\", \"나이:\", 20)"
   ]
  },
  {
   "cell_type": "markdown",
   "metadata": {
    "id": "ee9d55fb"
   },
   "source": [
    "### 4. 줄바꿈 없이 출력하는 방법 (`end` 옵션)\n",
    "\n",
    "`print()` 함수는 기본적으로 출력 후 줄바꿈을 합니다. `end` 옵션을 사용하면 줄바꿈 대신 원하는 문자로 끝을 지정할 수 있습니다. 기본값은 `\\n` (줄바꿈 문자) 입니다."
   ]
  },
  {
   "cell_type": "code",
   "execution_count": null,
   "metadata": {
    "colab": {
     "base_uri": "https://localhost:8080/"
    },
    "id": "7189161c",
    "outputId": "e18de0c3-8831-478b-87db-634180d8b408"
   },
   "outputs": [],
   "source": [
    "print(\"줄바꿈 없이\", end=\" \")\n",
    "print(\"출력됩니다.\")\n",
    "\n",
    "print(\"점\", end=\".\")\n",
    "print(\"점\", end=\".\")\n",
    "print(\"점\")"
   ]
  },
  {
   "cell_type": "markdown",
   "metadata": {
    "id": "711d85cf"
   },
   "source": [
    "### 5. 출력 값 사이에 구분자 넣는 방법 (`sep` 옵션)\n",
    "\n",
    "여러 값을 콤마로 구분하여 출력할 때, 값들 사이에 들어가는 구분자를 `sep` 옵션으로 변경할 수 있습니다. 기본값은 공백입니다."
   ]
  },
  {
   "cell_type": "code",
   "execution_count": null,
   "metadata": {
    "colab": {
     "base_uri": "https://localhost:8080/"
    },
    "id": "b09745ea",
    "outputId": "6cd9646f-d986-45c3-f980-a9dd10499915"
   },
   "outputs": [],
   "source": [
    "print(\"사과\", \"바나나\", \"오렌지\", sep=\", \")\n",
    "print(\"2023\", \"10\", \"26\", sep=\"-\")"
   ]
  },
  {
   "cell_type": "markdown",
   "metadata": {
    "id": "bc68a3e4"
   },
   "source": [
    "### 6. 문자열 포맷팅 방법들\n",
    "\n",
    "문자열 안에 변수 값을 삽입하거나 특정 형식으로 출력하고 싶을 때 문자열 포맷팅을 사용합니다. 주요 방법은 다음과 같습니다.\n",
    "\n",
    "#### `%` 연산자\n",
    "\n",
    "오래된 방식이지만 여전히 사용됩니다. `%s`는 문자열, `%d`는 정수, `%f`는 실수를 나타냅니다."
   ]
  },
  {
   "cell_type": "code",
   "execution_count": null,
   "metadata": {
    "colab": {
     "base_uri": "https://localhost:8080/"
    },
    "id": "b38b8ec3",
    "outputId": "e6766cd0-3256-4b92-b47b-28484124a9c7"
   },
   "outputs": [],
   "source": [
    "name = \"김파이\"\n",
    "age = 25\n",
    "print(\"제 이름은 {}이고, 나이는 {}살입니다.\".format(name, age))\n",
    "\n",
    "print(\"제 이름은 {0}이고, 나이는 {1}살입니다.\".format(name, age)) # 인덱스 사용\n",
    "\n",
    "print(\"파이 값은 {:.2f}입니다.\".format(pi)) # 소수점 둘째 자리까지 출력"
   ]
  },
  {
   "cell_type": "code",
   "execution_count": null,
   "metadata": {
    "colab": {
     "base_uri": "https://localhost:8080/"
    },
    "id": "9235579d",
    "outputId": "1ceb7909-9264-45cd-f657-e2023239d95a"
   },
   "outputs": [],
   "source": [
    "name = \"김파이\"\n",
    "age = 25\n",
    "print(f\"제 이름은 {name}이고, 나이는 {age}살입니다.\")\n",
    "\n",
    "pi = 3.1415926535\n",
    "print(f\"파이 값은 {pi:.2f}입니다.\") # 소수점 둘째 자리까지 출력"
   ]
  },
  {
   "cell_type": "code",
   "execution_count": null,
   "metadata": {
    "colab": {
     "base_uri": "https://localhost:8080/"
    },
    "id": "4853da4a",
    "outputId": "646e38e1-02c1-47c3-fc39-e53aebb6f091"
   },
   "outputs": [],
   "source": [
    "# % 연산자\n",
    "name = \"김파이\"\n",
    "age = 25\n",
    "print(\"제 이름은 %s이고, 나이는 %d살입니다.\" % (name, age))\n",
    "\n",
    "pi = 3.1415926535\n",
    "print(\"파이 값은 %.2f입니다.\" % pi)\n",
    "\n",
    "# str.format() 메서드\n",
    "print(\"제 이름은 {}이고, 나이는 {}살입니다.\".format(name, age))\n",
    "print(\"제 이름은 {0}이고, 나이는 {1}살입니다.\".format(name, age))\n",
    "print(\"파이 값은 {:.2f}입니다.\".format(pi))\n",
    "\n",
    "# f-string\n",
    "print(f\"제 이름은 {name}이고, 나이는 {age}살입니다.\")\n",
    "print(f\"파이 값은 {pi:.2f}입니다.\")"
   ]
  },
  {
   "cell_type": "markdown",
   "metadata": {
    "id": "765f2519"
   },
   "source": [
    "### 7. 따옴표 안에 따옴표 넣는 방법\n",
    "\n",
    "문자열을 정의할 때 사용한 따옴표와 동일한 따옴표를 문자열 안에 포함시키려면 이스케이프 문자 `\\`를 사용하거나, 외부 따옴표와 다른 종류의 따옴표를 사용하면 됩니다."
   ]
  },
  {
   "cell_type": "code",
   "execution_count": null,
   "metadata": {
    "colab": {
     "base_uri": "https://localhost:8080/"
    },
    "id": "4006f7c0",
    "outputId": "6504edec-5df5-4626-c90d-339390e3908a"
   },
   "outputs": [],
   "source": [
    "# 이스케이프 문자 사용\n",
    "print(\"그는 말했다: \\\"안녕!\\\"\")\n",
    "print('작은따옴표를 쓰고 싶으면 \\' 이렇게')\n",
    "\n",
    "# 다른 종류의 따옴표 사용\n",
    "print('그는 말했다: \"안녕!\"')\n",
    "print(\"작은따옴표를 쓰고 싶으면 ' 이렇게\")"
   ]
  },
  {
   "cell_type": "markdown",
   "metadata": {
    "id": "dd1cd664"
   },
   "source": [
    "### 8. 이모지나 특수문자 출력\n",
    "\n",
    "파이썬은 유니코드를 지원하므로 다양한 이모지나 특수문자를 문자열에 직접 포함시켜 출력할 수 있습니다."
   ]
  },
  {
   "cell_type": "code",
   "execution_count": null,
   "metadata": {
    "colab": {
     "base_uri": "https://localhost:8080/"
    },
    "id": "5ef8ebce",
    "outputId": "2b45f631-a5ca-4048-9ce0-43971d3bb750"
   },
   "outputs": [],
   "source": [
    "print(\"😊 안녕하세요! ✨\")\n",
    "print(\"© 2023 파이썬 학습\")"
   ]
  },
  {
   "cell_type": "markdown",
   "metadata": {
    "id": "7abb483b"
   },
   "source": [
    "### 9. 출력 줄 맞춤 (왼쪽, 오른쪽, 가운데 정렬)\n",
    "\n",
    "문자열 포맷팅을 사용하여 출력되는 문자열의 길이를 지정하고 정렬할 수 있습니다. 주로 `str.format()` 메서드나 f-string에서 사용됩니다.\n",
    "\n",
    "-   `<`: 왼쪽 정렬\n",
    "-   `>`: 오른쪽 정렬\n",
    "-   `^`: 가운데 정렬"
   ]
  },
  {
   "cell_type": "code",
   "execution_count": null,
   "metadata": {
    "colab": {
     "base_uri": "https://localhost:8080/"
    },
    "id": "24678e39",
    "outputId": "ac3a0c45-ebea-4ecb-9da9-83d639175eb8"
   },
   "outputs": [],
   "source": [
    "text = \"Python\"\n",
    "width = 10\n",
    "\n",
    "print(f\"왼쪽 정렬: '{text:<{width}}'\")\n",
    "print(f\"오른쪽 정렬: '{text:>{width}}'\")\n",
    "print(f\"가운데 정렬: '{text:^{width}}'\")\n",
    "\n",
    "# 채움 문자 지정\n",
    "print(f\"오른쪽 정렬 (채움): '{text:->{width}}'\")\n",
    "print(f\"가운데 정렬 (채움): '{text:-^{width}}'\")"
   ]
  },
  {
   "cell_type": "markdown",
   "metadata": {
    "id": "784edee7"
   },
   "source": [
    "### 10. 유니코드나 한글 출력 시 주의점\n",
    "\n",
    "파이썬 3부터는 기본적으로 유니코드를 지원하여 한글 출력이 용이합니다. 하지만 파일 인코딩 설정이나 터미널 환경에 따라 문제가 발생할 수 있습니다. Colab 환경에서는 대부분 문제없이 한글 출력이 가능합니다.\n",
    "\n",
    "만약 인코딩 문제가 발생한다면, 파일 상단에 `# -*- coding: utf-8 -*-` 와 같이 인코딩을 명시하거나, 문자열 앞에 `u` 접두사를 붙여 유니코드 문자열임을 명시하는 방법(Python 2와의 호환성을 위해 사용되기도 함)을 고려해 볼 수 있습니다. 하지만 파이썬 3에서는 기본적으로 UTF-8을 사용하므로 특별한 경우가 아니면 문제가 발생하지 않습니다."
   ]
  },
  {
   "cell_type": "code",
   "execution_count": null,
   "metadata": {
    "colab": {
     "base_uri": "https://localhost:8080/"
    },
    "id": "22946e90",
    "outputId": "e8b73476-cbfb-4456-f592-09ffa4c939de"
   },
   "outputs": [],
   "source": [
    "print(\"파이썬에서 한글을 출력합니다.\")"
   ]
  },
  {
   "cell_type": "markdown",
   "metadata": {
    "id": "e60834de"
   },
   "source": [
    "---\n",
    "\n",
    "### 📚 초보자를 위한 print() 함수 실습 문제\n",
    "\n",
    "이제 배운 내용을 바탕으로 다음 문제들을 풀어보세요.\n",
    "\n",
    "**문제 1:**\n",
    "\n",
    "\"안녕하세요, 파이썬 세계에 오신 것을 환영합니다!\" 라는 문장을 출력하세요.\n",
    "\n",
    "**문제 2:**\n",
    "\n",
    "두 변수 `name = \"앨리스\"`와 `age = 20`를 사용하여 \"제 이름은 앨리스이고, 나이는 20살입니다.\" 라는 문장을 f-string을 사용하여 출력하세요.\n",
    "\n",
    "**문제 3:**\n",
    "\n",
    "숫자 10, 20, 30을 콤마(`,`)로 구분하여 한 줄에 출력하세요.\n",
    "\n",
    "**문제 4:**\n",
    "\n",
    "\"첫 번째 줄\"을 출력하고 줄바꿈 없이 \"두 번째 줄\"을 이어서 출력하세요.\n",
    "\n",
    "**문제 5:**\n",
    "\n",
    "변수 `price = 123.45678`을 사용하여 \"상품 가격: 123.46 달러\" 와 같이 소수점 둘째 자리까지 출력하세요. (f-string 사용)\n",
    "\n",
    "---\n",
    "\n",
    "### ✅ 실습 문제 정답\n",
    "\n",
    "**문제 1 정답:**"
   ]
  },
  {
   "cell_type": "code",
   "execution_count": null,
   "metadata": {
    "colab": {
     "base_uri": "https://localhost:8080/"
    },
    "id": "8b093126",
    "outputId": "b3a49d4e-a5d1-481c-8457-870cdb2edabc"
   },
   "outputs": [],
   "source": [
    "name = \"앨리스\"\n",
    "age = 20\n",
    "print(f\"제 이름은 {name}이고, 나이는 {age}살입니다.\")"
   ]
  },
  {
   "cell_type": "code",
   "execution_count": null,
   "metadata": {
    "colab": {
     "base_uri": "https://localhost:8080/"
    },
    "id": "f0192eb2",
    "outputId": "69ec2e1a-eee2-4c9a-ccf5-5d84d3ab6e6f"
   },
   "outputs": [],
   "source": [
    "print(10, 20, 30, sep=\",\")\n",
    "# 또는 print(\"10,20,30\") 도 가능하지만, sep 사용을 연습하는 것이 좋습니다."
   ]
  },
  {
   "cell_type": "code",
   "execution_count": null,
   "metadata": {
    "colab": {
     "base_uri": "https://localhost:8080/"
    },
    "id": "464f6e6a",
    "outputId": "d991d65b-fd19-45be-d076-48720f74357f"
   },
   "outputs": [],
   "source": [
    "print(\"첫 번째 줄\", end=\"\")\n",
    "print(\"두 번째 줄\")"
   ]
  },
  {
   "cell_type": "code",
   "execution_count": null,
   "metadata": {
    "colab": {
     "base_uri": "https://localhost:8080/"
    },
    "id": "8cd59bc8",
    "outputId": "b2df950b-55e9-497b-af3f-7a0b8ae16d75"
   },
   "outputs": [],
   "source": [
    "price = 123.45678\n",
    "print(f\"상품 가격: {price:.2f} 달러\")"
   ]
  }
 ],
 "metadata": {
  "colab": {
   "provenance": []
  },
  "kernelspec": {
   "display_name": "Python 3",
   "name": "python3"
  },
  "language_info": {
   "name": "python"
  }
 },
 "nbformat": 4,
 "nbformat_minor": 0
}

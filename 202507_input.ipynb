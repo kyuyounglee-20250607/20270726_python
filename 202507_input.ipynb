{
 "cells": [
  {
   "cell_type": "code",
   "execution_count": null,
   "metadata": {
    "colab": {
     "base_uri": "https://localhost:8080/",
     "height": 54
    },
    "id": "a7JtOBKsAz6Q",
    "outputId": "3a8efb56-55a9-42ef-fb32-92c211637981"
   },
   "outputs": [],
   "source": [
    "input()\n"
   ]
  },
  {
   "cell_type": "code",
   "execution_count": null,
   "metadata": {
    "colab": {
     "base_uri": "https://localhost:8080/"
    },
    "id": "TUVRlwQTCRV-",
    "outputId": "2703d553-70ed-47ea-ebf8-923d760beef3"
   },
   "outputs": [],
   "source": [
    "a = input('첫번재 문자열 입력')\n",
    "b = input('두번재 문자열 입력')"
   ]
  },
  {
   "cell_type": "code",
   "execution_count": null,
   "metadata": {
    "colab": {
     "base_uri": "https://localhost:8080/"
    },
    "id": "0RbvDkhADlKd",
    "outputId": "653fdd5f-21f2-4f2e-d4ca-e99b69859b31"
   },
   "outputs": [],
   "source": [
    "print(a)\n",
    "print(b)"
   ]
  },
  {
   "cell_type": "code",
   "execution_count": null,
   "metadata": {
    "colab": {
     "base_uri": "https://localhost:8080/",
     "height": 35
    },
    "id": "sGUpCGZiDwob",
    "outputId": "e43303b9-9240-470b-943f-6aebc08d75ed"
   },
   "outputs": [],
   "source": [
    "a+b"
   ]
  },
  {
   "cell_type": "code",
   "execution_count": null,
   "metadata": {
    "id": "1XdId0DdEn8O"
   },
   "outputs": [],
   "source": [
    "a='100'"
   ]
  },
  {
   "cell_type": "code",
   "execution_count": null,
   "metadata": {
    "colab": {
     "base_uri": "https://localhost:8080/",
     "height": 147
    },
    "id": "_UCmEgAQETON",
    "outputId": "28cffe35-7b9c-43dc-c455-a5cadfe10643"
   },
   "outputs": [],
   "source": [
    "a + 1"
   ]
  },
  {
   "cell_type": "code",
   "execution_count": null,
   "metadata": {
    "id": "qR82s1F2FGW3"
   },
   "outputs": [],
   "source": [
    "# print 와 input 기능 정리하기\n",
    "# 사용법\n",
    "# print( 출력을 원하는 문자열이나 값 또는 수식, 변수 )  -->  출력\n",
    "# input(적당한 안내문)\n",
    "# 변수 = input()  --> 사용자가 입력한 값을 변수에 저장\n"
   ]
  },
  {
   "cell_type": "code",
   "execution_count": null,
   "metadata": {
    "colab": {
     "base_uri": "https://localhost:8080/"
    },
    "id": "lF2idj7wHJkF",
    "outputId": "9439fcb9-f1d2-4e7e-c72e-152623bc1de3"
   },
   "outputs": [],
   "source": [
    "# 사용자로부터 이름을 입력받아서\n",
    "name = input(\"이름을 입력하세요-->\")\n",
    "# 다음 형식으로 출력을 한다.\n",
    "# eX) 안녕하세요 홍길동님 반갑습니다\n",
    "result = \"안녕하세요\" +  name + \"님 반갑습니다\"\n",
    "print( result  )"
   ]
  },
  {
   "cell_type": "code",
   "execution_count": null,
   "metadata": {
    "id": "yzCyRj49IcEV"
   },
   "outputs": [],
   "source": [
    "# 변수\n",
    "# 변수명 = 값(숫자, 소수점, 문자열, bool),변수,수식\n",
    "# 100을 변수에 넣어보기\n",
    "number = 100\n"
   ]
  },
  {
   "cell_type": "code",
   "execution_count": null,
   "metadata": {
    "colab": {
     "base_uri": "https://localhost:8080/"
    },
    "id": "BOy5nyhyOf8e",
    "outputId": "9f05b672-2126-4a90-f117-1dbf0947f632"
   },
   "outputs": [],
   "source": [
    "# 문자형 저장하고 출력\n",
    "name = '홍길동'\n",
    "print(name)"
   ]
  },
  {
   "cell_type": "code",
   "execution_count": null,
   "metadata": {
    "colab": {
     "base_uri": "https://localhost:8080/"
    },
    "id": "LDMpTOjzPm3D",
    "outputId": "f0ee08e4-f8b4-40e5-94c0-1bdf071df183"
   },
   "outputs": [],
   "source": [
    "a = '10'\n",
    "b = 10\n",
    "print( int(a) + b)  # int(a) --> 문자열값을 가지는 변수a를 숫자로 변경하는 명령어\n",
    "print( a + str(b))  # str(b) 숫자를 문자로 변경하는 명령어"
   ]
  },
  {
   "cell_type": "code",
   "execution_count": null,
   "metadata": {
    "colab": {
     "base_uri": "https://localhost:8080/"
    },
    "id": "NfYeuIKLP8kb",
    "outputId": "3317bb68-3939-48ff-cab1-c09b64b53b53"
   },
   "outputs": [],
   "source": [
    "# 사용자로부터 값을 3개 입력받아서   input, int\n",
    "number1 = input()\n",
    "number2 = input()\n",
    "number3 = input()\n",
    "\n",
    "# 입력한 값의 합을 출력  print\n",
    "print( int(number1)  + int(number2) + int(number3))\n"
   ]
  },
  {
   "cell_type": "code",
   "execution_count": null,
   "metadata": {
    "id": "QKAo3n7eTrKi"
   },
   "outputs": [],
   "source": [
    "# 사용자로부터 값을 3개 입력받아서   input, int\n",
    "number1 = int(input())\n",
    "number2 = int(input())\n",
    "number3 = int(input())\n",
    "\n",
    "# 입력한 값의 합을 출력  print\n",
    "print( number1  + number2 + number3)"
   ]
  },
  {
   "cell_type": "code",
   "execution_count": null,
   "metadata": {
    "colab": {
     "base_uri": "https://localhost:8080/"
    },
    "id": "bWA5xhxhUi3J",
    "outputId": "379290d6-2d91-41b9-8bf0-6b49eaba6295"
   },
   "outputs": [],
   "source": [
    "#  실수를 변수 a에 입력하고   10.50\n",
    "a = 10.50\n",
    "#  정수를 변수 b에 입력해서    100\n",
    "b = 100\n",
    "# 두 변수를 더한값을 변수 c에 저장하고\n",
    "c = a + b\n",
    "# 변수 c를 출력\n",
    "print(c)\n",
    "\n"
   ]
  },
  {
   "cell_type": "code",
   "execution_count": null,
   "metadata": {
    "colab": {
     "base_uri": "https://localhost:8080/"
    },
    "id": "oN65ZfwtVscX",
    "outputId": "40781578-3c94-4403-c8be-a975adca8bad"
   },
   "outputs": [],
   "source": [
    "# bool\n",
    "a = True\n",
    "b = False\n",
    "print(a)"
   ]
  },
  {
   "cell_type": "code",
   "execution_count": null,
   "metadata": {
    "id": "QDW2ImB6WOqC"
   },
   "outputs": [],
   "source": [
    "# 숫자(int), 실수(float), 문자열(str), 불(bool)  --> type 이라고 함\n",
    "# 변수에 들어 있는 데이터가 어떤 type인지 확인하는 명령어는 type()"
   ]
  },
  {
   "cell_type": "code",
   "execution_count": null,
   "metadata": {
    "colab": {
     "base_uri": "https://localhost:8080/"
    },
    "id": "2tjhT72CWk5i",
    "outputId": "b771bf78-56f6-464c-ebe6-86151e9aaa31"
   },
   "outputs": [],
   "source": [
    "a = 10     # int\n",
    "b = 10.5   # float\n",
    "c = '숫자'  # str\n",
    "d = True  # bool\n",
    "print(type(a))"
   ]
  },
  {
   "cell_type": "code",
   "execution_count": null,
   "metadata": {
    "id": "Lb2oSPDdX5CX"
   },
   "outputs": [],
   "source": [
    "# 정리\n",
    "# print, input, 변수만들고 사용, 다양한 타입, 타입확인, 변수의 데이터 타입을 변환하는 방법"
   ]
  },
  {
   "cell_type": "code",
   "execution_count": null,
   "metadata": {
    "id": "9D2mZwv_YEOz"
   },
   "outputs": [],
   "source": []
  }
 ],
 "metadata": {
  "colab": {
   "provenance": []
  },
  "kernelspec": {
   "display_name": "Python 3",
   "name": "python3"
  },
  "language_info": {
   "name": "python"
  }
 },
 "nbformat": 4,
 "nbformat_minor": 0
}

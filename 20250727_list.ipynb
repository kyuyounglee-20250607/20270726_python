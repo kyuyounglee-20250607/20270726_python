{
 "cells": [
  {
   "cell_type": "code",
   "execution_count": 6,
   "id": "116b78b3",
   "metadata": {},
   "outputs": [
    {
     "name": "stdout",
     "output_type": "stream",
     "text": [
      "입력한 값은 20 이고 15를 곱한 값은 300 입니다.\n"
     ]
    }
   ],
   "source": [
    "# 변수 및 입출력 복습\n",
    "# 사용자로부터 정수를 입력받아서  input() -> int()\n",
    "# 변수에 저장하고  변수명 = 0000\n",
    "number = int(input('정수를 입력하세요 : '))\n",
    "# 15를 곱한다음 새로운 변수에 저장해서  새로운변수명 = 변수명\n",
    "new_number = number*15\n",
    "# 다음과 같이 출력\n",
    "# \"입력한값은 : 000 이고 15를 곱한 값은 000 입니다.\"  print(\"\" + \"\" + \"\")\n",
    "# output = '입력한 값은 : '+str(number)+' 이고 15를 곱한 값은 '+ str(new_number) + ' 입니다'\n",
    "output = f\"입력한 값은 {number} 이고 15를 곱한 값은 {new_number} 입니다.\"\n",
    "print(output)"
   ]
  },
  {
   "cell_type": "code",
   "execution_count": 7,
   "id": "dce202b8",
   "metadata": {},
   "outputs": [],
   "source": [
    "# 리스트\n",
    "# 변수명 = [11,22,33,44]\n",
    "# 변수명[0]  --> 11\n",
    "# 변수명[1]  --> 22\n",
    "# 변수명[4] -- > indexError \n",
    "# len(변수명)\n",
    "# 마지막 인덱스 = len(변수명) - 1   --> 44\n",
    "# 마지막 인덱스 = 변수명[-1] --> 44\n",
    "# 변수명[0:2] -> [11,22]\n",
    "# 변수명[:2] -> [11,22]\n",
    "# 변수명[0:4] -> [11,22,33,44]\n",
    "# 변수명[0:] -> [11,22,33,44]\n",
    "# 변수명[:] --> \n",
    "# 변수명[-2:]\n",
    "# 변수명[start:end-1 : step]\n",
    "# 변수명[::-1] --> 역순으로 출력\n"
   ]
  },
  {
   "cell_type": "code",
   "execution_count": 40,
   "id": "44247025",
   "metadata": {},
   "outputs": [],
   "source": [
    "# 1. 리스트 만들기\n",
    "import random\n",
    "lst1 = random.sample(range(100),10)"
   ]
  },
  {
   "cell_type": "code",
   "execution_count": 41,
   "id": "de854fe5",
   "metadata": {},
   "outputs": [
    {
     "data": {
      "text/plain": [
       "10"
      ]
     },
     "execution_count": 41,
     "metadata": {},
     "output_type": "execute_result"
    }
   ],
   "source": [
    "len(lst1)"
   ]
  },
  {
   "cell_type": "code",
   "execution_count": 43,
   "id": "6f26b43d",
   "metadata": {},
   "outputs": [
    {
     "name": "stdout",
     "output_type": "stream",
     "text": [
      "[92, 97, 78, 0, 80, 17, 15, 5, 53, 71]\n"
     ]
    }
   ],
   "source": [
    "# lst1에서 첫번재 값을 출력하고 그리고 값을 100으로 변경\n",
    "print(lst1)"
   ]
  },
  {
   "cell_type": "code",
   "execution_count": 44,
   "id": "cc9eb707",
   "metadata": {},
   "outputs": [
    {
     "name": "stdout",
     "output_type": "stream",
     "text": [
      "92\n"
     ]
    }
   ],
   "source": [
    "print(lst1[0])"
   ]
  },
  {
   "cell_type": "code",
   "execution_count": 45,
   "id": "407668ee",
   "metadata": {},
   "outputs": [
    {
     "name": "stdout",
     "output_type": "stream",
     "text": [
      "[100, 97, 78, 0, 80, 17, 15, 5, 53, 71]\n"
     ]
    }
   ],
   "source": [
    "lst1[0] = 100\n",
    "print(lst1)"
   ]
  },
  {
   "cell_type": "code",
   "execution_count": 46,
   "id": "560863d1",
   "metadata": {},
   "outputs": [
    {
     "name": "stdout",
     "output_type": "stream",
     "text": [
      "[0, 80, 17, 15, 5, 53]\n",
      "[0, 80, 17, 15, 5, 53]\n"
     ]
    }
   ],
   "source": [
    "lst2 = lst1[3:-1]\n",
    "print(lst2)\n",
    "lst3 = lst1[3:9]\n",
    "print(lst3)"
   ]
  },
  {
   "cell_type": "code",
   "execution_count": 49,
   "id": "6b73479f",
   "metadata": {},
   "outputs": [
    {
     "name": "stdout",
     "output_type": "stream",
     "text": [
      "[100, 97, 78, 0, 80, 17, 15, 5, 53, 71]\n",
      "[100, 97, 78, 0, 80]\n"
     ]
    }
   ],
   "source": [
    "# lst1에서 처음부터 5개만 추출\n",
    "print(lst1)\n",
    "print( lst1[ : 5] )"
   ]
  },
  {
   "cell_type": "code",
   "execution_count": 50,
   "id": "4708a6f4",
   "metadata": {},
   "outputs": [
    {
     "name": "stdout",
     "output_type": "stream",
     "text": [
      "[100, 97, 78, 0, 80, 17, 15, 5, 53, 71]\n",
      "[5, 53, 71]\n"
     ]
    }
   ],
   "source": [
    "# lst1에서 뒤에서 3개만 추출\n",
    "print(lst1)\n",
    "print( lst1[-3 : ] )"
   ]
  },
  {
   "cell_type": "code",
   "execution_count": 51,
   "id": "cfa1f19a",
   "metadata": {},
   "outputs": [
    {
     "name": "stdout",
     "output_type": "stream",
     "text": [
      "[100, 97, 78, 0, 80, 17, 15, 5, 53, 71]\n",
      "[71, 53, 5, 15, 17, 80, 0, 78, 97, 100]\n"
     ]
    }
   ],
   "source": [
    "# 뒤집기(역순출력)\n",
    "print(lst1)\n",
    "print(lst1[::-1])"
   ]
  },
  {
   "cell_type": "code",
   "execution_count": 53,
   "id": "97d96969",
   "metadata": {},
   "outputs": [
    {
     "data": {
      "text/plain": [
       "65"
      ]
     },
     "execution_count": 53,
     "metadata": {},
     "output_type": "execute_result"
    }
   ],
   "source": [
    "random.randint(0,100)"
   ]
  },
  {
   "cell_type": "code",
   "execution_count": 65,
   "id": "e6919011",
   "metadata": {},
   "outputs": [
    {
     "name": "stdout",
     "output_type": "stream",
     "text": [
      "[100, 97, 78, 0, 80, 17, 15, 5, 53, 71, 72, 69, 54, 16, 19, 79, 25, 15, 87, 89, 47, 100]\n"
     ]
    }
   ],
   "source": [
    "lst1.append( random.randint(0,100) )\n",
    "print(lst1)"
   ]
  },
  {
   "cell_type": "code",
   "execution_count": 101,
   "id": "55ea774a",
   "metadata": {},
   "outputs": [
    {
     "name": "stdout",
     "output_type": "stream",
     "text": [
      "[1, 2, 5, 4, 5]\n"
     ]
    }
   ],
   "source": [
    "lst2 = [1,2,5,4,5]\n",
    "print(lst2)"
   ]
  },
  {
   "cell_type": "code",
   "execution_count": 102,
   "id": "9f0fe76f",
   "metadata": {},
   "outputs": [
    {
     "name": "stdout",
     "output_type": "stream",
     "text": [
      "[1, 2, 5, 4, 5, 10]\n"
     ]
    }
   ],
   "source": [
    "lst2.append( 10 )\n",
    "print(lst2)"
   ]
  },
  {
   "cell_type": "code",
   "execution_count": null,
   "id": "3cc93f73",
   "metadata": {},
   "outputs": [
    {
     "name": "stdout",
     "output_type": "stream",
     "text": [
      "[1, 2, 4, 5, 10]\n"
     ]
    }
   ],
   "source": [
    "lst2.remove(5)\n",
    "print(lst2)"
   ]
  },
  {
   "cell_type": "code",
   "execution_count": null,
   "id": "394916f6",
   "metadata": {},
   "outputs": [],
   "source": [
    "deleted_num = lst2.pop()\n"
   ]
  },
  {
   "cell_type": "code",
   "execution_count": null,
   "id": "47f2bcd5",
   "metadata": {},
   "outputs": [],
   "source": [
    "# 생성 lst1 = [1,2]   또는 lst1 = []\n",
    "# 값을 추출( 인덱스로 한개, 슬라이싱 [ : : 1] )\n",
    "# 업데이트( 리스트변수[인덱스] = 값)\n",
    "# 삭제 remove --> 값을 찾아서(첫번째 매칭되는 값 한개만)\n",
    "#      pop --> 마지막 인덱스의 값을 삭제하고 가져온다\n",
    "# 추가 append --> 맨 마지막에 추가\n",
    "#    lst1.insert(3,10)  # -->  인덱스3 10을 끼워 넣는다"
   ]
  },
  {
   "cell_type": "code",
   "execution_count": 104,
   "id": "5661de5a",
   "metadata": {},
   "outputs": [
    {
     "name": "stdout",
     "output_type": "stream",
     "text": [
      "(1, 2, 3)\n"
     ]
    }
   ],
   "source": [
    "# 튜플\n",
    "tu1 = (1,2,3)\n",
    "print(tu1)"
   ]
  },
  {
   "cell_type": "code",
   "execution_count": 107,
   "id": "a3220c57",
   "metadata": {},
   "outputs": [
    {
     "ename": "TypeError",
     "evalue": "'tuple' object does not support item assignment",
     "output_type": "error",
     "traceback": [
      "\u001b[31m---------------------------------------------------------------------------\u001b[39m",
      "\u001b[31mTypeError\u001b[39m                                 Traceback (most recent call last)",
      "\u001b[36mCell\u001b[39m\u001b[36m \u001b[39m\u001b[32mIn[107]\u001b[39m\u001b[32m, line 1\u001b[39m\n\u001b[32m----> \u001b[39m\u001b[32m1\u001b[39m tu1[\u001b[32m0\u001b[39m] = \u001b[32m100\u001b[39m\n",
      "\u001b[31mTypeError\u001b[39m: 'tuple' object does not support item assignment"
     ]
    }
   ],
   "source": [
    "tu1[0] = 100"
   ]
  },
  {
   "cell_type": "code",
   "execution_count": 111,
   "id": "77fc85d0",
   "metadata": {},
   "outputs": [
    {
     "name": "stdout",
     "output_type": "stream",
     "text": [
      "[1, 2, 3]\n",
      "(1, 2, 3)\n"
     ]
    }
   ],
   "source": [
    "lst1 = [1,2,3]\n",
    "print(lst1)\n",
    "print(tuple(lst1))"
   ]
  },
  {
   "cell_type": "code",
   "execution_count": 114,
   "id": "dcd839d5",
   "metadata": {},
   "outputs": [
    {
     "name": "stdout",
     "output_type": "stream",
     "text": [
      "(1, 2, 3)\n",
      "1\n"
     ]
    }
   ],
   "source": [
    "print(tu1)\n",
    "print( tu1.index(2) )"
   ]
  },
  {
   "cell_type": "code",
   "execution_count": 115,
   "id": "e7f6b641",
   "metadata": {},
   "outputs": [
    {
     "data": {
      "text/plain": [
       "1"
      ]
     },
     "execution_count": 115,
     "metadata": {},
     "output_type": "execute_result"
    }
   ],
   "source": [
    "tu1.count(2)"
   ]
  },
  {
   "cell_type": "code",
   "execution_count": 117,
   "id": "04ec7ae0",
   "metadata": {},
   "outputs": [
    {
     "name": "stdout",
     "output_type": "stream",
     "text": [
      "[1, 1, 1, 2, 2, 2]\n",
      "{1, 2}\n"
     ]
    }
   ],
   "source": [
    "# set은  set() 형태로  만든다... 중복을 제거한다..\n",
    "lst1 = [1,1,1,2,2,2]\n",
    "print(lst1)\n",
    "s1 = set(lst1)\n",
    "print(s1)"
   ]
  },
  {
   "cell_type": "code",
   "execution_count": 124,
   "id": "420528d9",
   "metadata": {},
   "outputs": [
    {
     "name": "stdout",
     "output_type": "stream",
     "text": [
      "{1, 2, 100}\n"
     ]
    }
   ],
   "source": [
    "s1.add(100)\n",
    "print(s1)"
   ]
  },
  {
   "cell_type": "code",
   "execution_count": 128,
   "id": "c3b9a367",
   "metadata": {},
   "outputs": [
    {
     "name": "stdout",
     "output_type": "stream",
     "text": [
      "{1, 2, 3, 6, 7}\n",
      "{4, 5}\n",
      "{1, 2, 3, 4, 5, 6, 7, 70, 10, 50, 30}\n"
     ]
    }
   ],
   "source": [
    "# set은 차집합 합집합 교집합을 구할때 별도의 로직 없이 바로 사용 가능\n",
    "a = set([1,2,3,4,5,6,7])\n",
    "b = {10,70,4,5,50,30}\n",
    "print(a-b) # 차집합\n",
    "print(a&b) # 교집합\n",
    "print(a|b) # 교집합"
   ]
  },
  {
   "cell_type": "code",
   "execution_count": 129,
   "id": "003672b8",
   "metadata": {},
   "outputs": [],
   "source": [
    "d1 =  {'kor':90, 'eng':95, 'math':100}"
   ]
  },
  {
   "cell_type": "code",
   "execution_count": 130,
   "id": "aa23979c",
   "metadata": {},
   "outputs": [
    {
     "name": "stdout",
     "output_type": "stream",
     "text": [
      "90\n"
     ]
    }
   ],
   "source": [
    "print( d1['kor'] )"
   ]
  },
  {
   "cell_type": "code",
   "execution_count": 131,
   "id": "e723ca5f",
   "metadata": {},
   "outputs": [],
   "source": [
    "d1['kor'] = 95"
   ]
  },
  {
   "cell_type": "code",
   "execution_count": 132,
   "id": "5a08a13c",
   "metadata": {},
   "outputs": [
    {
     "name": "stdout",
     "output_type": "stream",
     "text": [
      "{'kor': 95, 'eng': 95, 'math': 100}\n"
     ]
    }
   ],
   "source": [
    "print(d1)"
   ]
  },
  {
   "cell_type": "code",
   "execution_count": 134,
   "id": "727c7146",
   "metadata": {},
   "outputs": [],
   "source": [
    "d1['japan'] = 99"
   ]
  },
  {
   "cell_type": "code",
   "execution_count": 135,
   "id": "9f6228ed",
   "metadata": {},
   "outputs": [
    {
     "name": "stdout",
     "output_type": "stream",
     "text": [
      "{'kor': 95, 'eng': 95, 'math': 100, 'japan': 99}\n"
     ]
    }
   ],
   "source": [
    "print(d1)"
   ]
  },
  {
   "cell_type": "code",
   "execution_count": 136,
   "id": "e235e384",
   "metadata": {},
   "outputs": [],
   "source": [
    "d1['human'] = ['사람','인간','좋은사람']"
   ]
  },
  {
   "cell_type": "code",
   "execution_count": 137,
   "id": "51c09fd8",
   "metadata": {},
   "outputs": [
    {
     "name": "stdout",
     "output_type": "stream",
     "text": [
      "{'kor': 95, 'eng': 95, 'math': 100, 'japan': 99, 'human': ['사람', '인간', '좋은사람']}\n"
     ]
    }
   ],
   "source": [
    "print(d1)"
   ]
  },
  {
   "cell_type": "code",
   "execution_count": 138,
   "id": "41fae883",
   "metadata": {},
   "outputs": [
    {
     "name": "stdout",
     "output_type": "stream",
     "text": [
      "dict_keys(['kor', 'eng', 'math', 'japan', 'human'])\n"
     ]
    }
   ],
   "source": [
    "print( d1.keys() )"
   ]
  },
  {
   "cell_type": "code",
   "execution_count": 140,
   "id": "ab5b3096",
   "metadata": {},
   "outputs": [
    {
     "data": {
      "text/plain": [
       "'kor'"
      ]
     },
     "execution_count": 140,
     "metadata": {},
     "output_type": "execute_result"
    }
   ],
   "source": [
    "list(d1.keys())[0]"
   ]
  },
  {
   "cell_type": "code",
   "execution_count": 165,
   "id": "e7a60bda",
   "metadata": {},
   "outputs": [],
   "source": [
    "student = {}"
   ]
  },
  {
   "cell_type": "code",
   "execution_count": 166,
   "id": "d1394259",
   "metadata": {},
   "outputs": [
    {
     "data": {
      "text/plain": [
       "dict"
      ]
     },
     "execution_count": 166,
     "metadata": {},
     "output_type": "execute_result"
    }
   ],
   "source": [
    "type(student)"
   ]
  },
  {
   "cell_type": "code",
   "execution_count": 167,
   "id": "ca697f18",
   "metadata": {},
   "outputs": [
    {
     "name": "stdout",
     "output_type": "stream",
     "text": [
      "{'kor': 90, 'eng': 95, 'math': 98}\n"
     ]
    }
   ],
   "source": [
    "student['kor'] = 90\n",
    "student['eng'] = 95\n",
    "student['math'] = 98\n",
    "print(student)"
   ]
  },
  {
   "cell_type": "code",
   "execution_count": 183,
   "id": "cdd33331",
   "metadata": {},
   "outputs": [
    {
     "name": "stdout",
     "output_type": "stream",
     "text": [
      "dict_keys(['kor', 'eng', 'math'])\n",
      "dict_values([90, 95, 98])\n",
      "dict_items([('kor', 90), ('eng', 95), ('math', 98)])\n"
     ]
    }
   ],
   "source": [
    "# keys() 출력해 보고 values() 출력해보고, items()\n",
    "print(student.keys())\n",
    "print(student.values())\n",
    "print(student.items())"
   ]
  },
  {
   "cell_type": "code",
   "execution_count": 186,
   "id": "632095ba",
   "metadata": {},
   "outputs": [
    {
     "data": {
      "text/plain": [
       "[{'kor': 90, 'eng': 95, 'math': 98},\n",
       " {'kor': 90, 'eng': 95, 'math': 98},\n",
       " {'kor': 90, 'eng': 95, 'math': 98}]"
      ]
     },
     "execution_count": 186,
     "metadata": {},
     "output_type": "execute_result"
    }
   ],
   "source": [
    "# 3명의 학생을 관리\n",
    "students = [student.copy(),student.copy(),student.copy()]\n",
    "students"
   ]
  },
  {
   "cell_type": "code",
   "execution_count": 187,
   "id": "e3cf1fad",
   "metadata": {},
   "outputs": [
    {
     "data": {
      "text/plain": [
       "[{'kor': 90, 'eng': 95, 'math': 98},\n",
       " {'kor': 90, 'eng': 100, 'math': 98},\n",
       " {'kor': 90, 'eng': 95, 'math': 98}]"
      ]
     },
     "execution_count": 187,
     "metadata": {},
     "output_type": "execute_result"
    }
   ],
   "source": [
    "students[1]['eng'] = 100\n",
    "students"
   ]
  },
  {
   "cell_type": "code",
   "execution_count": 173,
   "id": "242c4418",
   "metadata": {},
   "outputs": [],
   "source": [
    "students2 = [{'kor': 90, 'eng': 95, 'math': 98},\n",
    " {'kor': 90, 'eng': 95, 'math': 98},\n",
    " {'kor': 90, 'eng': 95, 'math': 98}]"
   ]
  },
  {
   "cell_type": "code",
   "execution_count": 175,
   "id": "0f0a4473",
   "metadata": {},
   "outputs": [],
   "source": [
    "students2[1]['eng'] = 100"
   ]
  },
  {
   "cell_type": "code",
   "execution_count": 176,
   "id": "bf118b67",
   "metadata": {},
   "outputs": [
    {
     "data": {
      "text/plain": [
       "[{'kor': 90, 'eng': 95, 'math': 98},\n",
       " {'kor': 90, 'eng': 100, 'math': 98},\n",
       " {'kor': 90, 'eng': 95, 'math': 98}]"
      ]
     },
     "execution_count": 176,
     "metadata": {},
     "output_type": "execute_result"
    }
   ],
   "source": [
    "students2"
   ]
  },
  {
   "cell_type": "code",
   "execution_count": 180,
   "id": "17a1dbee",
   "metadata": {},
   "outputs": [
    {
     "name": "stdout",
     "output_type": "stream",
     "text": [
      "[10, 20, 30]\n",
      "[10, 20, 30]\n"
     ]
    }
   ],
   "source": [
    "sample1 = [10,20,30]\n",
    "sample2 = sample1.copy()\n",
    "print(sample1)\n",
    "print(sample2)"
   ]
  },
  {
   "cell_type": "code",
   "execution_count": 181,
   "id": "a10a8a0b",
   "metadata": {},
   "outputs": [
    {
     "name": "stdout",
     "output_type": "stream",
     "text": [
      "['안녕하세요', 20, 30]\n"
     ]
    }
   ],
   "source": [
    "sample2[0] = '안녕하세요'\n",
    "print(sample2)"
   ]
  },
  {
   "cell_type": "code",
   "execution_count": 182,
   "id": "198ac47b",
   "metadata": {},
   "outputs": [
    {
     "name": "stdout",
     "output_type": "stream",
     "text": [
      "[10, 20, 30]\n"
     ]
    }
   ],
   "source": [
    "print(sample1)"
   ]
  },
  {
   "cell_type": "code",
   "execution_count": null,
   "id": "b5878361",
   "metadata": {},
   "outputs": [],
   "source": []
  }
 ],
 "metadata": {
  "kernelspec": {
   "display_name": "base",
   "language": "python",
   "name": "python3"
  },
  "language_info": {
   "codemirror_mode": {
    "name": "ipython",
    "version": 3
   },
   "file_extension": ".py",
   "mimetype": "text/x-python",
   "name": "python",
   "nbconvert_exporter": "python",
   "pygments_lexer": "ipython3",
   "version": "3.13.5"
  }
 },
 "nbformat": 4,
 "nbformat_minor": 5
}

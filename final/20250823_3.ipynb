{
 "cells": [
  {
   "cell_type": "code",
   "execution_count": 1,
   "id": "64cc4de5",
   "metadata": {},
   "outputs": [],
   "source": [
    "import sqlite3"
   ]
  },
  {
   "cell_type": "code",
   "execution_count": 3,
   "id": "0e381da1",
   "metadata": {},
   "outputs": [],
   "source": [
    "# 1. 접속  connect\n",
    "# 2. 커서  cursor\n",
    "# 3. 사용  excute\n",
    "# 4. 해제  close\n",
    "# 문법 : query --- 문자열로 이루어진 명령어"
   ]
  },
  {
   "cell_type": "code",
   "execution_count": 2,
   "id": "5e93d7a2",
   "metadata": {},
   "outputs": [],
   "source": [
    "conn = sqlite3.connect(\"example.db\")\n",
    "cursor = conn.cursor()"
   ]
  },
  {
   "cell_type": "code",
   "execution_count": null,
   "id": "bd4f7a0b",
   "metadata": {},
   "outputs": [],
   "source": [
    "query = '''\n",
    "create table if not exists users(\n",
    "    id integer primary key,\n",
    "    name text,\n",
    "    age integer\n",
    ")\n",
    "'''\n",
    "cursor.execute(query)  # --> 임시로 적용(다른사람이 접속해서 보면 반영 안됨)"
   ]
  },
  {
   "cell_type": "code",
   "execution_count": null,
   "id": "9e9df638",
   "metadata": {},
   "outputs": [
    {
     "data": {
      "text/plain": [
       "<sqlite3.Cursor at 0x29fb6ec0440>"
      ]
     },
     "execution_count": 6,
     "metadata": {},
     "output_type": "execute_result"
    }
   ],
   "source": [
    "# 테이블에 데이터 삽입\n",
    "query = '''\n",
    "    insert into users(name,age) \n",
    "        values (?,?)\n",
    "'''\n",
    "cursor.execute(query, ('홍길동',25)  )"
   ]
  },
  {
   "cell_type": "code",
   "execution_count": 7,
   "id": "e15d3644",
   "metadata": {},
   "outputs": [],
   "source": [
    "conn.commit()"
   ]
  },
  {
   "cell_type": "code",
   "execution_count": 17,
   "id": "6b061ca3",
   "metadata": {},
   "outputs": [
    {
     "data": {
      "text/plain": [
       "<sqlite3.Cursor at 0x29fb6ec0440>"
      ]
     },
     "execution_count": 17,
     "metadata": {},
     "output_type": "execute_result"
    }
   ],
   "source": [
    "query = '''\n",
    "    select * from users\n",
    "'''\n",
    "cursor.execute(query)"
   ]
  },
  {
   "cell_type": "code",
   "execution_count": 15,
   "id": "e27744f7",
   "metadata": {},
   "outputs": [
    {
     "name": "stdout",
     "output_type": "stream",
     "text": [
      "id:1, name:홍길동, age:25\n",
      "id:2, name:홍길동, age:25\n"
     ]
    }
   ],
   "source": [
    "for row in cursor.fetchall():\n",
    "    print(f'id:{row[0]}, name:{row[1]}, age:{row[2]}')"
   ]
  },
  {
   "cell_type": "code",
   "execution_count": null,
   "id": "d5bc6804",
   "metadata": {},
   "outputs": [],
   "source": [
    "# insert, update, delete, select\n",
    "query = '''\n",
    "    update users set name = ? where id = 1\n",
    "'''\n",
    "conn.execute(query,('강감찬',))\n",
    "conn.commit()"
   ]
  },
  {
   "cell_type": "code",
   "execution_count": 23,
   "id": "be27ad00",
   "metadata": {},
   "outputs": [],
   "source": [
    "query = '''\n",
    "    delete from users where id = 1\n",
    "'''\n",
    "conn.execute(query)\n",
    "conn.commit()"
   ]
  },
  {
   "cell_type": "code",
   "execution_count": 24,
   "id": "ea276f80",
   "metadata": {},
   "outputs": [],
   "source": [
    "conn.close()"
   ]
  },
  {
   "cell_type": "code",
   "execution_count": 25,
   "id": "9d7696d3",
   "metadata": {},
   "outputs": [],
   "source": [
    "# 새로운 데이블  customer\n",
    "# id name age\n",
    "# 데이터를 임의로 생성해서\n",
    "# DB에 저장\n",
    "import random\n",
    "\n",
    "names = [\"Alice\", \"Bob\", \"Charlie\", \"Diana\", \"Ethan\", \"Fiona\", \"George\", \"Hannah\", \"Ian\", \"Julia\"]\n",
    "ages = [random.randint(18, 65) for _ in range(10)]"
   ]
  },
  {
   "cell_type": "code",
   "execution_count": 27,
   "id": "f016eb15",
   "metadata": {},
   "outputs": [],
   "source": [
    "import sqlite3\n",
    "conn = sqlite3.connect('customer.db')\n",
    "cursor = conn.cursor()\n",
    "\n",
    "# 테이블  생성\n",
    "table_query = '''\n",
    "create table if not exists customer(\n",
    "id integer primary key,\n",
    "name text,\n",
    "age integer\n",
    ")\n",
    "'''\n",
    "cursor.execute(table_query)\n",
    "conn.commit()\n",
    "# 데이터 삽입\n",
    "insert_query = '''\n",
    "insert into customer(name,age) values(?,?)\n",
    "'''\n",
    "for name, age in zip(names,ages):\n",
    "    cursor.execute(insert_query,(name,age  ))\n",
    "conn.commit() \n"
   ]
  },
  {
   "cell_type": "code",
   "execution_count": null,
   "id": "a07d7346",
   "metadata": {},
   "outputs": [],
   "source": []
  }
 ],
 "metadata": {
  "kernelspec": {
   "display_name": "base",
   "language": "python",
   "name": "python3"
  },
  "language_info": {
   "codemirror_mode": {
    "name": "ipython",
    "version": 3
   },
   "file_extension": ".py",
   "mimetype": "text/x-python",
   "name": "python",
   "nbconvert_exporter": "python",
   "pygments_lexer": "ipython3",
   "version": "3.13.5"
  }
 },
 "nbformat": 4,
 "nbformat_minor": 5
}

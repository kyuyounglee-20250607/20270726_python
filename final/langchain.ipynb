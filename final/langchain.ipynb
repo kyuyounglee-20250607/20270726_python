{
 "cells": [
  {
   "cell_type": "code",
   "execution_count": null,
   "id": "a9f81238",
   "metadata": {},
   "outputs": [],
   "source": [
    "# .env 파일내용\n",
    "# OPENAI_API_KEY=\"TEST KEY\"\n",
    "# https://buly.kr/GvnaAF3"
   ]
  },
  {
   "cell_type": "code",
   "execution_count": null,
   "id": "4d0a176e",
   "metadata": {},
   "outputs": [],
   "source": [
    "%pip install langchain langchain-openai python-dotenv"
   ]
  },
  {
   "cell_type": "code",
   "execution_count": 5,
   "id": "f7e1e03b",
   "metadata": {},
   "outputs": [
    {
     "data": {
      "text/plain": [
       "True"
      ]
     },
     "execution_count": 5,
     "metadata": {},
     "output_type": "execute_result"
    }
   ],
   "source": [
    "from dotenv import load_dotenv\n",
    "load_dotenv()"
   ]
  },
  {
   "cell_type": "code",
   "execution_count": 6,
   "id": "72735f42",
   "metadata": {},
   "outputs": [
    {
     "data": {
      "text/plain": [
       "'sk-pr'"
      ]
     },
     "execution_count": 6,
     "metadata": {},
     "output_type": "execute_result"
    }
   ],
   "source": [
    "import os\n",
    "os.getenv(\"OPENAI_API_KEY\")[:5]"
   ]
  },
  {
   "cell_type": "code",
   "execution_count": null,
   "id": "4477a057",
   "metadata": {},
   "outputs": [],
   "source": [
    "#  Langchain 의 핵심 컴포넌트\n",
    "# PromptTemplate : LLM에 전달할 프롬프트를 생성\n",
    "# ChatOpenAI : OpenAI의 챗 모델 - GPT-5, GPT-4, GPT-3.5 등\n",
    "# Runnable : 공통 인터페이스  .invoke()\n",
    "# StrOutputParser : 문자열 출력 파서"
   ]
  },
  {
   "cell_type": "code",
   "execution_count": 7,
   "id": "6e93f669",
   "metadata": {},
   "outputs": [
    {
     "name": "stdout",
     "output_type": "stream",
     "text": [
      "What is a good name for a comapy that makes coffe?\n"
     ]
    }
   ],
   "source": [
    "from langchain_core.prompts import PromptTemplate\n",
    "template = 'What is a good name for a comapy that makes {sample}?'\n",
    "prompt = PromptTemplate.from_template(template)\n",
    "formatted_prompt =  prompt.format(sample='coffe')\n",
    "print(formatted_prompt)"
   ]
  },
  {
   "cell_type": "code",
   "execution_count": 8,
   "id": "f0d76a54",
   "metadata": {},
   "outputs": [
    {
     "name": "stdout",
     "output_type": "stream",
     "text": [
      "content=\"Hello! I'm just a program, so I don't have feelings, but I'm here and ready to help you. How can I assist you today?\" additional_kwargs={'refusal': None} response_metadata={'token_usage': {'completion_tokens': 29, 'prompt_tokens': 18, 'total_tokens': 47, 'completion_tokens_details': {'accepted_prediction_tokens': 0, 'audio_tokens': 0, 'reasoning_tokens': 0, 'rejected_prediction_tokens': 0}, 'prompt_tokens_details': {'audio_tokens': 0, 'cached_tokens': 0}}, 'model_name': 'gpt-4o-mini-2024-07-18', 'system_fingerprint': 'fp_560af6e559', 'id': 'chatcmpl-C7uGF3VO5zssaWyISoiyGj2E1NFWR', 'service_tier': 'default', 'finish_reason': 'stop', 'logprobs': None} id='run--234baea2-1ad1-457f-a482-e34d75094232-0' usage_metadata={'input_tokens': 18, 'output_tokens': 29, 'total_tokens': 47, 'input_token_details': {'audio': 0, 'cache_read': 0}, 'output_token_details': {'audio': 0, 'reasoning': 0}}\n"
     ]
    }
   ],
   "source": [
    "from langchain_openai import ChatOpenAI\n",
    "llm = ChatOpenAI(model='gpt-4o-mini',temperature=0)\n",
    "response = llm.invoke( [\"human\",'Hello, how are you?'] )\n",
    "print(response)"
   ]
  },
  {
   "cell_type": "code",
   "execution_count": 9,
   "id": "e0285ce6",
   "metadata": {},
   "outputs": [
    {
     "name": "stdout",
     "output_type": "stream",
     "text": [
      "Hello! I'm just a program, so I don't have feelings, but I'm here and ready to help you. How can I assist you today?\n"
     ]
    }
   ],
   "source": [
    "from langchain_core.output_parsers import StrOutputParser\n",
    "parser = StrOutputParser()\n",
    "parsed_text = parser.invoke(response)\n",
    "print(parsed_text)"
   ]
  },
  {
   "cell_type": "code",
   "execution_count": null,
   "id": "3ba26c20",
   "metadata": {},
   "outputs": [],
   "source": []
  }
 ],
 "metadata": {
  "kernelspec": {
   "display_name": "base",
   "language": "python",
   "name": "python3"
  },
  "language_info": {
   "codemirror_mode": {
    "name": "ipython",
    "version": 3
   },
   "file_extension": ".py",
   "mimetype": "text/x-python",
   "name": "python",
   "nbconvert_exporter": "python",
   "pygments_lexer": "ipython3",
   "version": "3.13.5"
  }
 },
 "nbformat": 4,
 "nbformat_minor": 5
}

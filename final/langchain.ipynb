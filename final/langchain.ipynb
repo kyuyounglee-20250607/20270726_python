{
 "cells": [
  {
   "cell_type": "code",
   "execution_count": null,
   "id": "a9f81238",
   "metadata": {},
   "outputs": [],
   "source": [
    "# .env 파일내용\n",
    "# OPENAI_API_KEY=\"TEST KEY\""
   ]
  },
  {
   "cell_type": "code",
   "execution_count": null,
   "id": "4d0a176e",
   "metadata": {},
   "outputs": [],
   "source": [
    "%pip install langchain langchain-openai python-dotenv"
   ]
  },
  {
   "cell_type": "code",
   "execution_count": null,
   "id": "f7e1e03b",
   "metadata": {},
   "outputs": [
    {
     "data": {
      "text/plain": [
       "True"
      ]
     },
     "execution_count": 2,
     "metadata": {},
     "output_type": "execute_result"
    }
   ],
   "source": [
    "from dotenv import load_dotenv\n",
    "load_dotenv()"
   ]
  },
  {
   "cell_type": "code",
   "execution_count": 3,
   "id": "72735f42",
   "metadata": {},
   "outputs": [
    {
     "data": {
      "text/plain": [
       "'TEST KEY'"
      ]
     },
     "execution_count": 3,
     "metadata": {},
     "output_type": "execute_result"
    }
   ],
   "source": [
    "import os\n",
    "os.getenv(\"OPENAI_API_KEY\")"
   ]
  },
  {
   "cell_type": "code",
   "execution_count": null,
   "id": "4477a057",
   "metadata": {},
   "outputs": [],
   "source": [
    "#  Langchain 의 핵심 컴포넌트\n",
    "# PromptTemplate : LLM에 전달할 프롬프트를 생성\n",
    "# ChatOpenAI : OpenAI의 챗 모델 - GPT-5, GPT-4, GPT-3.5 등\n",
    "# Runnable : 공통 인터페이스  .invoke()\n",
    "# StrOutputParser : 문자열 출력 파서"
   ]
  },
  {
   "cell_type": "code",
   "execution_count": 9,
   "id": "6e93f669",
   "metadata": {},
   "outputs": [
    {
     "name": "stdout",
     "output_type": "stream",
     "text": [
      "What is a good name for a comapy that makes coffe?\n"
     ]
    }
   ],
   "source": [
    "from langchain_core.prompts import PromptTemplate\n",
    "template = 'What is a good name for a comapy that makes {sample}?'\n",
    "prompt = PromptTemplate.from_template(template)\n",
    "formatted_prompt =  prompt.format(sample='coffe')\n",
    "print(formatted_prompt)"
   ]
  },
  {
   "cell_type": "code",
   "execution_count": null,
   "id": "f0d76a54",
   "metadata": {},
   "outputs": [],
   "source": [
    "from langchain_openai import ChatOpenAI\n",
    "llm = ChatOpenAI(model='gpt-4o-mini',temperature=0)\n",
    "response = llm.invoke( [\"human\",'Hello, how are you?'] )\n",
    "print(response)"
   ]
  },
  {
   "cell_type": "code",
   "execution_count": null,
   "id": "e0285ce6",
   "metadata": {},
   "outputs": [],
   "source": []
  }
 ],
 "metadata": {
  "kernelspec": {
   "display_name": "base",
   "language": "python",
   "name": "python3"
  },
  "language_info": {
   "codemirror_mode": {
    "name": "ipython",
    "version": 3
   },
   "file_extension": ".py",
   "mimetype": "text/x-python",
   "name": "python",
   "nbconvert_exporter": "python",
   "pygments_lexer": "ipython3",
   "version": "3.13.5"
  }
 },
 "nbformat": 4,
 "nbformat_minor": 5
}

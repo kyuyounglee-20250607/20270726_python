{
 "cells": [
  {
   "cell_type": "code",
   "execution_count": null,
   "id": "a9f81238",
   "metadata": {},
   "outputs": [],
   "source": [
    "# 프로젝트 경로는 c:/test/    한글 없이 간단하게\n",
    "# .env 파일내용\n",
    "# OPENAI_API_KEY=\"TEST KEY\"\n",
    "\n",
    "# 실제키가 들어있는 위치\n",
    "# https://buly.kr/GvnaAF3"
   ]
  },
  {
   "cell_type": "code",
   "execution_count": null,
   "id": "4d0a176e",
   "metadata": {},
   "outputs": [],
   "source": [
    "%pip install langchain langchain-openai langchain_community python-dotenv"
   ]
  },
  {
   "cell_type": "code",
   "execution_count": 1,
   "id": "f7e1e03b",
   "metadata": {},
   "outputs": [
    {
     "data": {
      "text/plain": [
       "True"
      ]
     },
     "execution_count": 1,
     "metadata": {},
     "output_type": "execute_result"
    }
   ],
   "source": [
    "from dotenv import load_dotenv\n",
    "load_dotenv()"
   ]
  },
  {
   "cell_type": "code",
   "execution_count": 2,
   "id": "72735f42",
   "metadata": {},
   "outputs": [
    {
     "data": {
      "text/plain": [
       "'sk-pr'"
      ]
     },
     "execution_count": 2,
     "metadata": {},
     "output_type": "execute_result"
    }
   ],
   "source": [
    "import os\n",
    "os.getenv(\"OPENAI_API_KEY\")[:5]"
   ]
  },
  {
   "cell_type": "code",
   "execution_count": null,
   "id": "4477a057",
   "metadata": {},
   "outputs": [],
   "source": [
    "#  Langchain 의 핵심 컴포넌트\n",
    "# PromptTemplate : LLM에 전달할 프롬프트를 생성\n",
    "# ChatOpenAI : OpenAI의 챗 모델 - GPT-5, GPT-4, GPT-3.5 등\n",
    "# Runnable : 공통 인터페이스  .invoke()\n",
    "# StrOutputParser : 문자열 출력 파서"
   ]
  },
  {
   "cell_type": "code",
   "execution_count": 11,
   "id": "6e93f669",
   "metadata": {},
   "outputs": [
    {
     "name": "stdout",
     "output_type": "stream",
     "text": [
      "coffe 과 어울리는 회사이름 추천해줘?\n"
     ]
    }
   ],
   "source": [
    "from langchain_core.prompts import PromptTemplate\n",
    "template = '{sample} 과 어울리는 회사이름 추천해줘?'\n",
    "prompt = PromptTemplate.from_template(template)\n",
    "formatted_prompt =  prompt.format(sample='coffe')\n",
    "print(formatted_prompt)"
   ]
  },
  {
   "cell_type": "code",
   "execution_count": 12,
   "id": "f0d76a54",
   "metadata": {},
   "outputs": [
    {
     "name": "stdout",
     "output_type": "stream",
     "text": [
      "content=\"Hello! I'm just a program, so I don't have feelings, but I'm here and ready to help you. How can I assist you today?\" additional_kwargs={'refusal': None} response_metadata={'token_usage': {'completion_tokens': 29, 'prompt_tokens': 18, 'total_tokens': 47, 'completion_tokens_details': {'accepted_prediction_tokens': 0, 'audio_tokens': 0, 'reasoning_tokens': 0, 'rejected_prediction_tokens': 0}, 'prompt_tokens_details': {'audio_tokens': 0, 'cached_tokens': 0}}, 'model_name': 'gpt-4o-mini-2024-07-18', 'system_fingerprint': 'fp_560af6e559', 'id': 'chatcmpl-C7udoJNNONcUhDLIsxGwoLrGac6nV', 'service_tier': 'default', 'finish_reason': 'stop', 'logprobs': None} id='run--76b2e806-80c0-4464-9089-c90d15ff9260-0' usage_metadata={'input_tokens': 18, 'output_tokens': 29, 'total_tokens': 47, 'input_token_details': {'audio': 0, 'cache_read': 0}, 'output_token_details': {'audio': 0, 'reasoning': 0}}\n"
     ]
    }
   ],
   "source": [
    "from langchain_openai import ChatOpenAI\n",
    "llm = ChatOpenAI(model='gpt-4o-mini',temperature=0)\n",
    "response = llm.invoke( [\"human\",'Hello, how are you?'] )\n",
    "print(response)"
   ]
  },
  {
   "cell_type": "code",
   "execution_count": 13,
   "id": "e0285ce6",
   "metadata": {},
   "outputs": [
    {
     "name": "stdout",
     "output_type": "stream",
     "text": [
      "Hello! I'm just a program, so I don't have feelings, but I'm here and ready to help you. How can I assist you today?\n"
     ]
    }
   ],
   "source": [
    "from langchain_core.output_parsers import StrOutputParser\n",
    "parser = StrOutputParser()\n",
    "parsed_text = parser.invoke(response)\n",
    "print(parsed_text)"
   ]
  },
  {
   "cell_type": "code",
   "execution_count": 14,
   "id": "3ba26c20",
   "metadata": {},
   "outputs": [
    {
     "name": "stdout",
     "output_type": "stream",
     "text": [
      "result = 커피와 어울리는 회사 이름 몇 가지를 추천해드릴게요:\n",
      "\n",
      "1. **커피하우스** - 아늑한 분위기를 연상시키는 이름\n",
      "2. **커피정원** - 자연과 함께하는 느낌을 주는 이름\n",
      "3. **커피공방** - 수제 커피의 느낌을 강조하는 이름\n",
      "4. **아침의 커피** - 하루를 시작하는 커피의 중요성을 담은 이름\n",
      "5. **커피와 이야기** - 사람들과의 소통을 강조하는 이름\n",
      "6. **커피의 향기** - 커피의 매력을 부각시키는 이름\n",
      "7. **커피마을** - 친근하고 따뜻한 느낌을 주는 이름\n",
      "8. **커피여행** - 다양한 커피의 세계를 탐험하는 느낌을 주는 이름\n",
      "9. **커피와 함께** - 일상 속에서 커피의 동반자 역할을 강조하는 이름\n",
      "10. **커피의 순간** - 특별한 순간을 함께하는 커피를 의미하는 이름\n",
      "\n",
      "이 중에서 마음에 드는 이름이 있으면 좋겠네요!\n"
     ]
    }
   ],
   "source": [
    "# 체인\n",
    "chain = prompt | llm | parser\n",
    "result = chain.invoke({'sample':'coffee'})\n",
    "print(f'result = {result}')"
   ]
  },
  {
   "cell_type": "code",
   "execution_count": 15,
   "id": "faacb279",
   "metadata": {},
   "outputs": [
    {
     "name": "stdout",
     "output_type": "stream",
     "text": [
      "질문 : langchain 에 대해 한 문장으로 설명해줘\n",
      "답변 : LangChain은 자연어 처리(NLP) 모델을 활용하여 다양한 애플리케이션을 구축하고 연결할 수 있도록 지원하는 프레임워크입니다.\n"
     ]
    }
   ],
   "source": [
    "# 과금정보 추적\n",
    "llm = ChatOpenAI(model = 'gpt-4o-mini',temperature=0.7)\n",
    "prompt = 'langchain 에 대해 한 문장으로 설명해줘'\n",
    "result = llm.invoke(prompt)\n",
    "print(f'질문 : {prompt}')\n",
    "print(f'답변 : {result.content}')"
   ]
  },
  {
   "cell_type": "code",
   "execution_count": 16,
   "id": "3c335dce",
   "metadata": {},
   "outputs": [
    {
     "name": "stdout",
     "output_type": "stream",
     "text": [
      "토큰 사용 정보 : {'input_tokens': 18, 'output_tokens': 34, 'total_tokens': 52, 'input_token_details': {'audio': 0, 'cache_read': 0}, 'output_token_details': {'audio': 0, 'reasoning': 0}}\n"
     ]
    }
   ],
   "source": [
    "print(f'토큰 사용 정보 : {result.usage_metadata}')"
   ]
  },
  {
   "cell_type": "code",
   "execution_count": 18,
   "id": "d2028b6b",
   "metadata": {},
   "outputs": [],
   "source": [
    "# In-Memory 캐시(메모리 캐시) 사용\n",
    "from langchain_core.caches import InMemoryCache\n",
    "from langchain_core.globals import set_llm_cache\n",
    "# 인메모리캐시 설정\n",
    "set_llm_cache(InMemoryCache()) # 캐시 활성"
   ]
  },
  {
   "cell_type": "code",
   "execution_count": 1,
   "id": "a39182e3",
   "metadata": {},
   "outputs": [
    {
     "name": "stdout",
     "output_type": "stream",
     "text": [
      "D:\\AI\\langchain.db\n"
     ]
    }
   ],
   "source": [
    "# 데이터베이스 방식 캐시\n",
    "from pathlib import Path\n",
    "from langchain_core.globals import set_llm_cache\n",
    "from langchain_community.cache import SQLiteCache\n",
    "\n",
    "# 현재 작업 디렉토리 기준으로 절대 경로 생성\n",
    "db_path = Path().resolve() / \"langchain.db\"\n",
    "print(db_path)\n",
    "set_llm_cache(SQLiteCache(database_path=str(db_path)))"
   ]
  },
  {
   "cell_type": "code",
   "execution_count": 2,
   "id": "a3dea6dd",
   "metadata": {},
   "outputs": [],
   "source": [
    "import time\n",
    "from langchain_openai import ChatOpenAI\n",
    "llm = ChatOpenAI(model='gpt-4o-mini',temperature=0)\n",
    "query = '우울할때 먹는 음식하나 추천 해 줘'"
   ]
  },
  {
   "cell_type": "code",
   "execution_count": 5,
   "id": "d4ae5d81",
   "metadata": {},
   "outputs": [
    {
     "name": "stdout",
     "output_type": "stream",
     "text": [
      "응답1: 우울할 때는 기분을 좋게 해주는 음식이 도움이 될 수 있습니다. 그 중 하나로 **다크 초콜릿**을 추천합니다. 다크 초콜릿은 기분을 좋게 해주는 화학물질인 세로토닌과 엔도르핀의 분비를 촉진하는 데 도움을 줄 수 있습니다. 또한, 항산화 물질이 풍부하여 스트레스 해소에도 좋습니다. 적당량을 즐기면서 기분을 전환해 보세요! 0.001859 초\n"
     ]
    }
   ],
   "source": [
    "start = time.time()\n",
    "# 첫번째 호출  캐시에 없으면 api 호출\n",
    "result1 = llm.invoke(query)\n",
    "end = time.time()\n",
    "print(f'응답1: {result1.content} {end-start:.6f} 초')"
   ]
  },
  {
   "cell_type": "code",
   "execution_count": 4,
   "id": "28222ad7",
   "metadata": {},
   "outputs": [
    {
     "name": "stdout",
     "output_type": "stream",
     "text": [
      "응답1: 우울할 때는 기분을 좋게 해주는 음식이 도움이 될 수 있습니다. 그 중 하나로 **다크 초콜릿**을 추천합니다. 다크 초콜릿은 기분을 좋게 해주는 화학물질인 세로토닌과 엔도르핀의 분비를 촉진하는 데 도움을 줄 수 있습니다. 또한, 항산화 물질이 풍부하여 스트레스 해소에도 좋습니다. 적당량을 즐기면서 기분을 전환해 보세요! 0.001648 초\n"
     ]
    }
   ],
   "source": [
    "# 두번째 호출  동일한  query 호출  api 미 호출\n",
    "start = time.time()\n",
    "result2 = llm.invoke(query)\n",
    "end = time.time()\n",
    "print(f'응답1: {result2.content} {end-start:.6f} 초')"
   ]
  },
  {
   "cell_type": "code",
   "execution_count": 6,
   "id": "2350b41b",
   "metadata": {},
   "outputs": [],
   "source": [
    "# 템플릿\n",
    "# 템플릿 문자열 정의\n",
    "# PromptTemplat 객체 생성\n",
    "# 포맷 수행\n",
    "# LLM 호출"
   ]
  },
  {
   "cell_type": "code",
   "execution_count": 8,
   "id": "2430d0d2",
   "metadata": {},
   "outputs": [
    {
     "name": "stdout",
     "output_type": "stream",
     "text": [
      "당신은 최고 수준의 마케팅 카피라이터 입니다.\n",
      "아래 제품의 매력적인 홍보문구를 100자 내외로 작성해 주세요\n",
      "\n",
      "제품명 : 갤럭시 플립 7\n"
     ]
    }
   ],
   "source": [
    "# 제품명을 받으면 홍보문구를 생성하는 동적 프롬프트\n",
    "from langchain.prompts import PromptTemplate\n",
    "tmp = (\n",
    "    \"당신은 최고 수준의 마케팅 카피라이터 입니다.\\n\"\n",
    "    \"아래 제품의 매력적인 홍보문구를 100자 내외로 작성해 주세요\\n\\n\"\n",
    "    \"제품명 : {product_name}\"\n",
    ")\n",
    "prompt = PromptTemplate.from_template(tmp)\n",
    "formated_prompt = prompt.format(product_name='갤럭시 플립 7')\n",
    "print(formated_prompt)"
   ]
  },
  {
   "cell_type": "code",
   "execution_count": 12,
   "id": "929279fd",
   "metadata": {},
   "outputs": [
    {
     "name": "stdout",
     "output_type": "stream",
     "text": [
      "\"갤럭시 플립 7, 당신의 스타일을 접다! 혁신적인 폴더블 디자인과 강력한 성능으로 일상에 특별함을 더하세요. 지금, 새로운 차원의 스마트폰을 경험해보세요!\"\n"
     ]
    }
   ],
   "source": [
    "from langchain_openai import ChatOpenAI\n",
    "llm = ChatOpenAI(model='gpt-4o-mini', temperature=0)\n",
    "chain = prompt | llm\n",
    "result = chain.invoke({'product_name' : '갤럭시 플립 7'})\n",
    "print(result.content)"
   ]
  },
  {
   "cell_type": "code",
   "execution_count": 14,
   "id": "4f559e6a",
   "metadata": {},
   "outputs": [
    {
     "name": "stdout",
     "output_type": "stream",
     "text": [
      "아래는 뉴스 기사 제목과 키워드 입니다.\n",
      "이 정보를 바탕으로 한 문단으로 구성된 간략한 요약문을 작성하세요\n",
      "\n",
      "제목 : 인공지능 기술의 발전과 미래\n",
      "키워드 : 머신러닝, 딥러닝, 산업 혁명\n"
     ]
    }
   ],
   "source": [
    "from langchain.prompts import PromptTemplate\n",
    "tmp = (\n",
    "    \"아래는 뉴스 기사 제목과 키워드 입니다.\\n\"\n",
    "    \"이 정보를 바탕으로 한 문단으로 구성된 간략한 요약문을 작성하세요\\n\\n\"\n",
    "    \"제목 : {title}\\n\"\n",
    "    \"키워드 : {keyword}\"\n",
    ")\n",
    "prompt = PromptTemplate(\n",
    "    template=tmp,input_variables=['title','keyword']\n",
    ")\n",
    "title = '인공지능 기술의 발전과 미래'\n",
    "keyword = '머신러닝, 딥러닝, 산업 혁명'\n",
    "formated_prompt = prompt.format(title=title,keyword=keyword)\n",
    "print(formated_prompt)"
   ]
  },
  {
   "cell_type": "code",
   "execution_count": 15,
   "id": "06ba64bd",
   "metadata": {},
   "outputs": [
    {
     "name": "stdout",
     "output_type": "stream",
     "text": [
      "인공지능 기술의 발전은 머신러닝과 딥러닝의 혁신을 통해 새로운 산업 혁명을 이끌고 있습니다. 이러한 기술들은 데이터 분석과 자동화를 가능하게 하여 다양한 분야에서 효율성을 극대화하고 있습니다. 앞으로 인공지능은 더욱 발전하여 우리의 삶과 산업 구조에 큰 변화를 가져올 것으로 기대됩니다.\n"
     ]
    }
   ],
   "source": [
    "from langchain_openai import ChatOpenAI\n",
    "llm = ChatOpenAI(model='gpt-4o-mini', temperature=0)\n",
    "chain = prompt | llm\n",
    "result = chain.invoke({\n",
    "    'title' : title,\n",
    "    'keyword':keyword\n",
    "    })\n",
    "print(result.content)"
   ]
  },
  {
   "cell_type": "code",
   "execution_count": 6,
   "id": "a97419cb",
   "metadata": {},
   "outputs": [
    {
     "name": "stdout",
     "output_type": "stream",
     "text": [
      "리스트 컴프리헨션(List Comprehension)과 `map()` 함수는 모두 파이썬에서 iterable(반복 가능한 객체)을 변환하는 데 사용되지만, 그 사용 방식과 문법에서 차이가 있습니다. 아래에서 각각의 특징과 차이점을 설명하겠습니다.\n",
      "\n",
      "### 리스트 컴프리헨션\n",
      "\n",
      "리스트 컴프리헨션은 간결하고 직관적인 문법을 사용하여 리스트를 생성하는 방법입니다. 일반적으로 for 루프를 사용하여 리스트를 만드는 것보다 더 간단하게 표현할 수 있습니다.\n",
      "\n",
      "**예시:**\n",
      "```python\n",
      "# 0부터 9까지의 제곱을 포함하는 리스트 생성\n",
      "squares = [x**2 for x in range(10)]\n",
      "print(squares)  # [0, 1, 4, 9, 16, 25, 36, 49, 64, 81]\n",
      "```\n",
      "\n",
      "### `map()` 함수\n",
      "\n",
      "`map()` 함수는 주어진 함수를 iterable의 각 요소에 적용하여 새로운 iterable을 생성합니다. `map()`은 주로 함수형 프로그래밍 스타일에서 사용됩니다.\n",
      "\n",
      "**예시:**\n",
      "```python\n",
      "# 제곱을 계산하는 함수 정의\n",
      "def square(x):\n",
      "    return x**2\n",
      "\n",
      "# 0부터 9까지의 제곱을 포함하는 리스트 생성\n",
      "squares = list(map(square, range(10)))\n",
      "print(squares)  # [0, 1, 4, 9, 16, 25, 36, 49, 64, 81]\n",
      "```\n",
      "\n",
      "### 차이점 요약\n",
      "\n",
      "1. **문법**:\n",
      "   - 리스트 컴프리헨션은 더 간결하고 읽기 쉬운 문법을 제공합니다.\n",
      "   - `map()` 함수는 함수와 iterable을 인자로 받아야 하며, 함수형 프로그래밍 스타일에 더 가깝습니다.\n",
      "\n",
      "2. **가독성**:\n",
      "   - 리스트 컴프리헨션은 직관적이어서 파이썬 초보자에게 더 이해하기 쉬울 수 있습니다.\n",
      "   - `map()`은 함수가 명시적으로 필요하므로, 복잡한 변환을 할 때는 가독성이 떨어질 수 있습니다.\n",
      "\n",
      "3. **결과 타입**:\n",
      "   - 리스트 컴프리헨션은 항상 리스트를 반환합니다.\n",
      "   - `map()`은 map 객체를 반환하며, 이를 리스트로 변환하려면 `list()` 함수를 사용해야 합니다.\n",
      "\n",
      "4. **성능**:\n",
      "   - 성능 차이는 상황에 따라 다를 수 있지만, 일반적으로 리스트 컴프리헨션이 더 빠른 경우가 많습니다. 그러나 큰 데이터셋에서는 `map()`이 더 효율적일 수 있습니다.\n",
      "\n",
      "결론적으로, 두 방법 모두 유용하며, 상황에 따라 적절한 방법을 선택하면 됩니다. 리스트 컴프리헨션은 간단한 변환에 적합하고, `map()`은 함수형 프로그래밍 스타일을 선호할 때 유용합니다.\n"
     ]
    }
   ],
   "source": [
    "# 역활기반  Q & A 프롬프트\n",
    "# 시스템  메시지, 사용자 메세지\n",
    "from langchain.prompts import ChatPromptTemplate\n",
    "system_message = (\"너는 python 분야의 뛰어난 전문가이자 조언가 입니다.\"\n",
    "                  \"사용자의 프로그래밍 질문에 대해 친절하고 이해하기 쉽게 답변해주세요\")\n",
    "user_message = \"{question}\"\n",
    "chat_prompt =  ChatPromptTemplate.from_messages([\n",
    "    ('system',system_message),\n",
    "    ('user',user_message)\n",
    "])\n",
    "from langchain_openai import ChatOpenAI\n",
    "llm = ChatOpenAI(model='gpt-4o-mini', temperature=0)\n",
    "chain = chat_prompt | llm\n",
    "question = '파이썬의 리스트 컴프리핸션과 map 함수의 차이점은 무엇인가요?'\n",
    "result = chain.invoke({'question':question})\n",
    "print(result.content)"
   ]
  },
  {
   "cell_type": "code",
   "execution_count": null,
   "id": "139b2e07",
   "metadata": {},
   "outputs": [],
   "source": []
  }
 ],
 "metadata": {
  "kernelspec": {
   "display_name": "base",
   "language": "python",
   "name": "python3"
  },
  "language_info": {
   "codemirror_mode": {
    "name": "ipython",
    "version": 3
   },
   "file_extension": ".py",
   "mimetype": "text/x-python",
   "name": "python",
   "nbconvert_exporter": "python",
   "pygments_lexer": "ipython3",
   "version": "3.13.5"
  }
 },
 "nbformat": 4,
 "nbformat_minor": 5
}

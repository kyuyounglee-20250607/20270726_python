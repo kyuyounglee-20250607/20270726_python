{
 "cells": [
  {
   "cell_type": "code",
   "execution_count": 1,
   "id": "5ef8182c",
   "metadata": {},
   "outputs": [],
   "source": [
    "# LangChain Tools\n",
    "# 외부 기능이나  api \n",
    "# 주식, 날시, 웹 검색 ....\n",
    "# llm 훈련데이터 이후의 정보는 모른다 - 웹 검색\n",
    "# 외부 API 호출 Tool 구현"
   ]
  },
  {
   "cell_type": "code",
   "execution_count": null,
   "id": "8dbd1411",
   "metadata": {},
   "outputs": [],
   "source": [
    "%pip install langchain-core langchain-openai openai python-dotenv requests"
   ]
  },
  {
   "cell_type": "code",
   "execution_count": 3,
   "id": "d0776edf",
   "metadata": {},
   "outputs": [
    {
     "name": "stdout",
     "output_type": "stream",
     "text": [
      "sk-pr\n",
      "ff3b4\n"
     ]
    }
   ],
   "source": [
    "from dotenv import load_dotenv\n",
    "import os\n",
    "\n",
    "load_dotenv()\n",
    "print(os.getenv('OPENAI_API_KEY')[:5])\n",
    "print(os.getenv('OWM_API_KEY')[:5])"
   ]
  },
  {
   "cell_type": "code",
   "execution_count": 11,
   "id": "5a154024",
   "metadata": {},
   "outputs": [
    {
     "name": "stdout",
     "output_type": "stream",
     "text": [
      "Seoul의 현재 기온은 32.2c , 날씨는 튼구름 입니다.\n"
     ]
    }
   ],
   "source": [
    "import requests\n",
    "api_key = os.getenv('OWM_API_KEY')\n",
    "url = 'https://api.openweathermap.org/data/2.5/weather'\n",
    "city = 'Seoul'\n",
    "params = {\n",
    "    'q':city,\n",
    "    'appid':api_key,\n",
    "    'units':'metric',  # 섭씨온도\n",
    "    'lang' : 'kr'\n",
    "}\n",
    "response = requests.get(url,params=params)\n",
    "data = response.json()\n",
    "if data.get('cod') != 200:\n",
    "    print(f'{city}의 날씨 정보를 찾을 수 없습니다.')\n",
    "# 필요한 정보를 파싱\n",
    "temp = data['main']['temp']\n",
    "desc = data['weather'][0]['description']\n",
    "city_name = data['name']\n",
    "print(f'{city_name}의 현재 기온은 {temp}c , 날씨는 {desc} 입니다.' )"
   ]
  },
  {
   "cell_type": "code",
   "execution_count": null,
   "id": "c5e25162",
   "metadata": {},
   "outputs": [],
   "source": []
  }
 ],
 "metadata": {
  "kernelspec": {
   "display_name": "base",
   "language": "python",
   "name": "python3"
  },
  "language_info": {
   "codemirror_mode": {
    "name": "ipython",
    "version": 3
   },
   "file_extension": ".py",
   "mimetype": "text/x-python",
   "name": "python",
   "nbconvert_exporter": "python",
   "pygments_lexer": "ipython3",
   "version": "3.13.5"
  }
 },
 "nbformat": 4,
 "nbformat_minor": 5
}

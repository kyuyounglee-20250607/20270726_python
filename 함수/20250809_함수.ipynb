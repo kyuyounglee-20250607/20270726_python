{
 "cells": [
  {
   "cell_type": "code",
   "execution_count": 2,
   "id": "ca6f483e",
   "metadata": {},
   "outputs": [],
   "source": [
    "# 함수  여러줄의 코드를 하나로 묶어서 필요할때마다 반복적으로 사용\n",
    "# 코드 재사용 : 같은 코드를 여러번 쓸 필요없이 재사용\n",
    "# 가독성 및 유지보수 : 복잡한 프로그램을 작은 단위로 나누면 \n",
    "#  키워드 def\n",
    "# def 함수이름(매개변수):\n",
    "    # 실행할 코드 블럭\n",
    "    # return 반환값"
   ]
  },
  {
   "cell_type": "code",
   "execution_count": 7,
   "id": "ee48e929",
   "metadata": {},
   "outputs": [],
   "source": [
    "# 두개의 값을 매개변수로 받아서 두수를 더해서 결과를 반한하는 함수\n",
    "# 함수명은  add\n",
    "def add(a,b):  # 매개변수(parameter)\n",
    "    # 두 매개변수 a b를 더하고 그 결과를 돌려주는 코드\n",
    "    result = a + b\n",
    "    # 어떤 키워드를 사용해야 결과값을 돌려줄까요?\n",
    "    return result"
   ]
  },
  {
   "cell_type": "code",
   "execution_count": 8,
   "id": "cda90bea",
   "metadata": {},
   "outputs": [
    {
     "name": "stdout",
     "output_type": "stream",
     "text": [
      "15\n"
     ]
    }
   ],
   "source": [
    "# 함수 호출(Function call)\n",
    "# add(10, 5)  인자(Argument)\n",
    "# 호출 결과인 15를 받아오려면 \n",
    "# hint 변수에 저장할수 있습니다.\n",
    "a = add(10,5)\n",
    "print(a)"
   ]
  },
  {
   "cell_type": "code",
   "execution_count": 9,
   "id": "d669706c",
   "metadata": {},
   "outputs": [],
   "source": [
    "# 반환값이 없는 함수\n",
    "# 이름을 입력받으면 적당한 메세지함께 환영메세지를 출력하는 함수\n",
    "def greet(name):\n",
    "    print(f'안녕하세요 {name}님 반가워요')"
   ]
  },
  {
   "cell_type": "code",
   "execution_count": 10,
   "id": "1f2cf08a",
   "metadata": {},
   "outputs": [
    {
     "name": "stdout",
     "output_type": "stream",
     "text": [
      "안녕하세요 홍길동님 반가워요\n"
     ]
    }
   ],
   "source": [
    "greet('홍길동')"
   ]
  },
  {
   "cell_type": "code",
   "execution_count": null,
   "id": "93e91de6",
   "metadata": {},
   "outputs": [],
   "source": [
    "def intruduction(addr, name='이름', age=20):\n",
    "    print(f'주소:{addr} 이름:{name} 나이:{age}')"
   ]
  },
  {
   "cell_type": "code",
   "execution_count": 26,
   "id": "6447b534",
   "metadata": {},
   "outputs": [
    {
     "name": "stdout",
     "output_type": "stream",
     "text": [
      "이름:홍길동 나이:20\n"
     ]
    }
   ],
   "source": [
    "intruduction('홍길동')"
   ]
  },
  {
   "cell_type": "code",
   "execution_count": 27,
   "id": "c2e598cf",
   "metadata": {},
   "outputs": [
    {
     "name": "stdout",
     "output_type": "stream",
     "text": [
      "이름:홍길동 나이:15\n"
     ]
    }
   ],
   "source": [
    "intruduction('홍길동',15)"
   ]
  },
  {
   "cell_type": "code",
   "execution_count": 29,
   "id": "5e1984cd",
   "metadata": {},
   "outputs": [],
   "source": [
    "# 키워드 매개변수\n",
    "# 함수에 데이터를 전달할때 순서대로.... 그런데.. 지정할수 있음\n",
    "def greet(name, age):\n",
    "    print(name, age)\n"
   ]
  },
  {
   "cell_type": "code",
   "execution_count": 31,
   "id": "a96941f3",
   "metadata": {},
   "outputs": [
    {
     "name": "stdout",
     "output_type": "stream",
     "text": [
      "20 홍길동\n"
     ]
    }
   ],
   "source": [
    "greet(20,'홍길동')"
   ]
  },
  {
   "cell_type": "code",
   "execution_count": 32,
   "id": "da54393a",
   "metadata": {},
   "outputs": [
    {
     "name": "stdout",
     "output_type": "stream",
     "text": [
      "홍길동 20\n"
     ]
    }
   ],
   "source": [
    "greet(age=20,name='홍길동')"
   ]
  },
  {
   "cell_type": "code",
   "execution_count": 38,
   "id": "8398aad8",
   "metadata": {},
   "outputs": [
    {
     "name": "stdout",
     "output_type": "stream",
     "text": [
      "(1, 2, 3, 4, 5)\n"
     ]
    }
   ],
   "source": [
    "a = 1,2,3,4,5\n",
    "print(a)"
   ]
  },
  {
   "cell_type": "code",
   "execution_count": null,
   "id": "ee19bf44",
   "metadata": {},
   "outputs": [],
   "source": [
    "# 가변 매개변수\n",
    "# 함수를 호출할때 몇개의 입력으로 전달할지 정할 수 없을때\n",
    "# 매개변수 앞에 *붙여서 정의 여러개의 입력이 튜플로 변환\n",
    "def add_all_numbers(*datas):  #  packing\n",
    "    result = 0\n",
    "    for i in datas:\n",
    "        result += i\n",
    "    return result"
   ]
  },
  {
   "cell_type": "code",
   "execution_count": null,
   "id": "b952b2f7",
   "metadata": {},
   "outputs": [
    {
     "name": "stdout",
     "output_type": "stream",
     "text": [
      "27\n",
      "3\n"
     ]
    }
   ],
   "source": [
    "a = add_all_numbers( 1,2,4,5,1,4,5,4,1 )\n",
    "print(a)\n",
    "a = add_all_numbers( 1,2 )\n",
    "print(a)"
   ]
  },
  {
   "cell_type": "code",
   "execution_count": 39,
   "id": "07d3bfba",
   "metadata": {},
   "outputs": [],
   "source": [
    "# 가변 키워드\n",
    "# 가변 + 키워드\n",
    "def print_user_details(**details):\n",
    "    print('사용자 정보')\n",
    "    for key, value in details.items():\n",
    "        print(f' - {key} : {value}')"
   ]
  },
  {
   "cell_type": "code",
   "execution_count": 41,
   "id": "f843d27c",
   "metadata": {},
   "outputs": [
    {
     "name": "stdout",
     "output_type": "stream",
     "text": [
      "사용자 정보\n",
      " - city : 서울\n",
      " - position : 매니저\n"
     ]
    }
   ],
   "source": [
    "print_user_details(city='서울',position='매니저')"
   ]
  },
  {
   "cell_type": "code",
   "execution_count": 43,
   "id": "a9648e9a",
   "metadata": {},
   "outputs": [],
   "source": [
    "# 매개변수\n",
    "# 1. positional parameter   위치기반 -- 순서대로 1:1 매핑\n",
    "def myfuntion(a,b):\n",
    "    pass\n",
    "# 2. 디폴트 매개변수(default parameter)\n",
    "def myfunction(a,b=0):\n",
    "    pass\n",
    "\n",
    "# 3. 키워드 아큐먼트(Argument)\n",
    "myfunction(b=15,a=200)\n",
    "\n",
    "# 가변 매개변수\n",
    "def myfunction(*args):  # 패킹 - 튜플\n",
    "    pass\n",
    "myfunction(1)\n",
    "myfunction(1,2,3,4)\n",
    "myfunction(1,3,4,3,4,45,3,4,3,3,4,3,4)\n",
    "\n",
    "# 가변 키워드\n",
    "def myfunction(**args):  # 패킹 - 딕셔너리\n",
    "    pass\n",
    "myfunction(a=200)\n",
    "myfunction(b=15,a=200)\n",
    "myfunction(b=15,a=200,name='홍길동',score=200)"
   ]
  },
  {
   "cell_type": "code",
   "execution_count": 46,
   "id": "eca139b4",
   "metadata": {},
   "outputs": [],
   "source": [
    "def user_info(id,name,age,addr,score):\n",
    "    print(f'id:{id}, name:{name}, age:{age}, addr:{addr}, score:{score}')"
   ]
  },
  {
   "cell_type": "code",
   "execution_count": null,
   "id": "47f23655",
   "metadata": {},
   "outputs": [
    {
     "name": "stdout",
     "output_type": "stream",
     "text": [
      "id:1, name:홍길동, age:20, addr:강남구 개포동, score:200\n"
     ]
    }
   ],
   "source": [
    "user_info(id=1,name='홍길동',age=20,addr='강남구 개포동',score=200)\n",
    "\n",
    "params = {\n",
    "    'id':1,\n",
    "    'name':'홍길동',\n",
    "    'age':20,\n",
    "    'addr':'강남구 개포동',\n",
    "    'score':200\n",
    "}\n",
    "user_info(**params)  # unpacking  키워드 파라메터 형태로 전달"
   ]
  },
  {
   "cell_type": "code",
   "execution_count": null,
   "id": "806bb6c0",
   "metadata": {},
   "outputs": [],
   "source": [
    "# 구구단 중에서 단수를 입력하면 해당 구구단을 출력하는 함수\n",
    "# 2단출력하는 코드\n",
    "dan = 2\n",
    "for i in range(1,10):\n",
    "    print(f' {dan} x {i} = {dan * i}')"
   ]
  },
  {
   "cell_type": "code",
   "execution_count": 51,
   "id": "e7f208c8",
   "metadata": {},
   "outputs": [],
   "source": [
    "def gugudan(dan):    \n",
    "    for i in range(1,10):\n",
    "        print(f' {dan} x {i} = {dan * i}')"
   ]
  },
  {
   "cell_type": "code",
   "execution_count": null,
   "id": "8ad80acb",
   "metadata": {},
   "outputs": [],
   "source": [
    "for i in range(2,10):\n",
    "    gugudan(i)\n",
    "    print()"
   ]
  },
  {
   "cell_type": "code",
   "execution_count": null,
   "id": "99621ee0",
   "metadata": {},
   "outputs": [
    {
     "name": "stdout",
     "output_type": "stream",
     "text": [
      "다음기회에 다시 도전해 보세요\n"
     ]
    }
   ],
   "source": [
    "# 입력값에대한 예외처리\n",
    "# 숫자인지 판단\n",
    "# 숫자라고해도 범위를 넘어서는지(0 ~ 100)\n",
    "score = int(input('점수 입력'))\n",
    "is_pass = False\n",
    "if score >=60:\n",
    "    is_pass = True\n",
    "\n",
    "if is_pass:\n",
    "    print('축하합니다.')\n",
    "else:\n",
    "    print('다음기회에 다시 도전해 보세요')"
   ]
  },
  {
   "cell_type": "code",
   "execution_count": null,
   "id": "ee02c2a4",
   "metadata": {},
   "outputs": [],
   "source": [
    "# 점수는 정수로 0 ~ 100 로 입력되는지 확인해서 \n",
    "# ValueError  발생\n"
   ]
  }
 ],
 "metadata": {
  "kernelspec": {
   "display_name": "base",
   "language": "python",
   "name": "python3"
  },
  "language_info": {
   "codemirror_mode": {
    "name": "ipython",
    "version": 3
   },
   "file_extension": ".py",
   "mimetype": "text/x-python",
   "name": "python",
   "nbconvert_exporter": "python",
   "pygments_lexer": "ipython3",
   "version": "3.13.5"
  }
 },
 "nbformat": 4,
 "nbformat_minor": 5
}

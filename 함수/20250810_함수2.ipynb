{
 "cells": [
  {
   "cell_type": "code",
   "execution_count": null,
   "id": "b3c71b4c",
   "metadata": {},
   "outputs": [],
   "source": [
    "# 입력값에대한 예외처리\n",
    "# 숫자인지 판단\n",
    "# 숫자라고해도 범위를 넘어서는지(0 ~ 100)\n",
    "score = int(input('점수 입력'))\n",
    "is_pass = False\n",
    "if score >=60:\n",
    "    is_pass = True\n",
    "\n",
    "if is_pass:\n",
    "    print('축하합니다.')\n",
    "else:\n",
    "    print('다음기회에 다시 도전해 보세요')"
   ]
  },
  {
   "cell_type": "code",
   "execution_count": null,
   "id": "a2226ffb",
   "metadata": {},
   "outputs": [],
   "source": [
    "# solution\n",
    "while True:\n",
    "    try:\n",
    "        number = int(input('정수를 입력하세요'))  # -4 10 \n",
    "        is_overnumber = False\n",
    "        try:\n",
    "            if not 0 <= number <=100:\n",
    "                is_overnumber=True\n",
    "                raise ValueError('정수의 범위는 0과 100사이 입니다.\\n다시입력하세요')                        \n",
    "        except ValueError as e:\n",
    "            print(f'오류 : {e}')\n",
    "        if not is_overnumber:\n",
    "            break\n",
    "    except ValueError as e:\n",
    "        print('정수를 입력하세요')"
   ]
  },
  {
   "cell_type": "code",
   "execution_count": null,
   "id": "19887cd2",
   "metadata": {},
   "outputs": [],
   "source": [
    "while True:\n",
    "    try:\n",
    "        number = int(input('정수를 입력하세요'))  # -4 10                 \n",
    "        if not 0 <= number <=100:            \n",
    "            raise ValueError('정수의 범위는 0과 100사이 입니다.\\n다시입력하세요')                                \n",
    "        break        \n",
    "    except ValueError as e:           \n",
    "        if \"invalid literal for int() with base 10:\" in str(e):\n",
    "            print('정수를 입력하세요')\n",
    "        else:\n",
    "            print(e)\n",
    "            "
   ]
  },
  {
   "cell_type": "code",
   "execution_count": 22,
   "id": "b6a78015",
   "metadata": {},
   "outputs": [],
   "source": [
    "# 합격 여부 판단\n",
    "# 점수가 60이상이 면합격 그렇지 않으면 불합격\n",
    "# is_pass \n",
    "is_pass = True if number >=60 else False"
   ]
  },
  {
   "cell_type": "code",
   "execution_count": null,
   "id": "e9aaf3e2",
   "metadata": {},
   "outputs": [
    {
     "name": "stdout",
     "output_type": "stream",
     "text": [
      "\"축하합니다\"\n",
      "2025년 9월 1일까지 지정된 계좌로 입학금을 납부하세요\n"
     ]
    }
   ],
   "source": [
    "# is_pass 의 값을 읽어서 \n",
    "# 합격이면\n",
    "# \"축하합니다\" 2025년 9월 1일까지 지정된 계좌로 입학금을 납무하세요\n",
    "# \"합격자 명단에 없습니다.\"\n",
    "if is_pass:\n",
    "    print('\"축하합니다\"\\n2025년 9월 1일까지 지정된 계좌로 입학금을 납부하세요')\n",
    "else:\n",
    "    print('\"합격자\" 명단에 없습니다.')"
   ]
  },
  {
   "cell_type": "code",
   "execution_count": null,
   "id": "50310938",
   "metadata": {},
   "outputs": [],
   "source": [
    "# 사용자로부터 점수를 받는다\n",
    "number = get_user_data()\n",
    "\n",
    "# 점수에따라서 합격여부를 판단한다\n",
    "is_pass = check_pass()\n",
    "\n",
    "# 결과를 출력한다\n",
    "show_info()"
   ]
  }
 ],
 "metadata": {
  "kernelspec": {
   "display_name": "base",
   "language": "python",
   "name": "python3"
  },
  "language_info": {
   "codemirror_mode": {
    "name": "ipython",
    "version": 3
   },
   "file_extension": ".py",
   "mimetype": "text/x-python",
   "name": "python",
   "nbconvert_exporter": "python",
   "pygments_lexer": "ipython3",
   "version": "3.13.5"
  }
 },
 "nbformat": 4,
 "nbformat_minor": 5
}

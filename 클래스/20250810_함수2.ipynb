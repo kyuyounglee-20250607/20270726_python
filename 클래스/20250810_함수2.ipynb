{
 "cells": [
  {
   "cell_type": "code",
   "execution_count": null,
   "id": "b3c71b4c",
   "metadata": {},
   "outputs": [],
   "source": [
    "# 입력값에대한 예외처리\n",
    "# 숫자인지 판단\n",
    "# 숫자라고해도 범위를 넘어서는지(0 ~ 100)\n",
    "score = int(input('점수 입력'))\n",
    "is_pass = False\n",
    "if score >=60:\n",
    "    is_pass = True\n",
    "\n",
    "if is_pass:\n",
    "    print('축하합니다.')\n",
    "else:\n",
    "    print('다음기회에 다시 도전해 보세요')"
   ]
  },
  {
   "cell_type": "code",
   "execution_count": null,
   "id": "a2226ffb",
   "metadata": {},
   "outputs": [],
   "source": [
    "# solution\n",
    "while True:\n",
    "    try:\n",
    "        number = int(input('정수를 입력하세요'))  # -4 10 \n",
    "        is_overnumber = False\n",
    "        try:\n",
    "            if not 0 <= number <=100:\n",
    "                is_overnumber=True\n",
    "                raise ValueError('정수의 범위는 0과 100사이 입니다.\\n다시입력하세요')                        \n",
    "        except ValueError as e:\n",
    "            print(f'오류 : {e}')\n",
    "        if not is_overnumber:\n",
    "            break\n",
    "    except ValueError as e:\n",
    "        print('정수를 입력하세요')"
   ]
  },
  {
   "cell_type": "code",
   "execution_count": 26,
   "id": "19887cd2",
   "metadata": {},
   "outputs": [],
   "source": [
    "def get_user_data():\n",
    "    while True:\n",
    "        try:\n",
    "            number = int(input('정수를 입력하세요'))  # -4 10                 \n",
    "            if not 0 <= number <=100:            \n",
    "                raise ValueError('정수의 범위는 0과 100사이 입니다.\\n다시입력하세요')                                \n",
    "            return number  # return 어디에 있는든 상관없이 함수를 종료        \n",
    "        except ValueError as e:           \n",
    "            if \"invalid literal for int() with base 10:\" in str(e):\n",
    "                print('정수를 입력하세요')\n",
    "            else:\n",
    "                print(e)\n",
    "            "
   ]
  },
  {
   "cell_type": "code",
   "execution_count": 28,
   "id": "b6a78015",
   "metadata": {},
   "outputs": [],
   "source": [
    "# 합격 여부 판단\n",
    "# 점수가 60이상이 면합격 그렇지 않으면 불합격\n",
    "# is_pass \n",
    "def check_pass(number):\n",
    "    return True if number >=60 else False   "
   ]
  },
  {
   "cell_type": "code",
   "execution_count": 29,
   "id": "e9aaf3e2",
   "metadata": {},
   "outputs": [],
   "source": [
    "# is_pass 의 값을 읽어서 \n",
    "# 합격이면\n",
    "# \"축하합니다\" 2025년 9월 1일까지 지정된 계좌로 입학금을 납무하세요\n",
    "# \"합격자 명단에 없습니다.\"\n",
    "def show_info(is_pass):\n",
    "    if is_pass:\n",
    "        print('\"축하합니다\"\\n2025년 9월 1일까지 지정된 계좌로 입학금을 납부하세요')\n",
    "    else:\n",
    "        print('\"합격자\" 명단에 없습니다.')"
   ]
  },
  {
   "cell_type": "code",
   "execution_count": 32,
   "id": "50310938",
   "metadata": {},
   "outputs": [
    {
     "name": "stdout",
     "output_type": "stream",
     "text": [
      "\"합격자\" 명단에 없습니다.\n"
     ]
    }
   ],
   "source": [
    "# 사용자로부터 점수를 받는다\n",
    "number = get_user_data()\n",
    "\n",
    "# 점수에따라서 합격여부를 판단한다\n",
    "is_pass = check_pass(number)\n",
    "\n",
    "# 결과를 출력한다\n",
    "show_info(is_pass)"
   ]
  },
  {
   "cell_type": "code",
   "execution_count": 34,
   "id": "92d3cb59",
   "metadata": {},
   "outputs": [],
   "source": [
    "# 함수 복습\n",
    "# 1. 매개변수 X 리턴값 X\n",
    "def func1():\n",
    "    print('안녕하세요')\n",
    "# 2. 매개변수 X 리턴값 O\n",
    "import random\n",
    "def func2():\n",
    "    return random.randint(1,100)\n",
    "# 3. 매개변수 O 리턴값 X\n",
    "def factorial(n):\n",
    "    result = 1\n",
    "    for i in range(1,n+1):\n",
    "        result *= i\n",
    "    print(f'{n}팩터리얼 : {result}')\n",
    "# 4. 매개변수 O 리턴값 O\n",
    "def add(a,b):\n",
    "    return a+b"
   ]
  },
  {
   "cell_type": "code",
   "execution_count": 42,
   "id": "5014d978",
   "metadata": {},
   "outputs": [],
   "source": [
    "# 설계도 - 사용자가 만드는 새로운 자료구조\n",
    "class Greet():    \n",
    "    def hello(self,name):  # 메소드  method\n",
    "        print('hello',name)\n",
    "    def hi(self):\n",
    "        print('hi')"
   ]
  },
  {
   "cell_type": "code",
   "execution_count": 45,
   "id": "da49efc1",
   "metadata": {},
   "outputs": [
    {
     "name": "stdout",
     "output_type": "stream",
     "text": [
      "hello 홍길동\n",
      "hello 홍길동\n",
      "hi\n"
     ]
    }
   ],
   "source": [
    "# 사용\n",
    "human1 =  Greet()  # 객체\n",
    "human2 =  Greet()  # 객체\n",
    "human1.hello('홍길동')\n",
    "human2.hello('홍길동')\n",
    "human1.hi()"
   ]
  },
  {
   "cell_type": "code",
   "execution_count": 88,
   "id": "57aaf6cb",
   "metadata": {},
   "outputs": [],
   "source": [
    "# Calc클래스\n",
    "# add, minus, divide, multi  매개변수는 두개로\n",
    "class Calc():    \n",
    "    number1 = 0\n",
    "    def add(self,a,b):\n",
    "        return a+b\n",
    "    def minus(self,a,b):\n",
    "        return a-b\n",
    "    def divide(self,a,b):\n",
    "        try:\n",
    "            return a / b\n",
    "        except Exception as e:\n",
    "            print(e)\n",
    "    def multi(self,a,b):\n",
    "        return a*b    "
   ]
  },
  {
   "cell_type": "code",
   "execution_count": 89,
   "id": "a4711d5e",
   "metadata": {},
   "outputs": [],
   "source": [
    "# 클래스 변수 : 클래스가 메모리에 로드될때 한번만 생성되고 모든 객체(인스턴스가 공유)\n",
    "# 인스턴스 변수 : 인스턴스(객체) 마다 고유한 자체 변수\n",
    "# calc1 = Calc()  ; calc1.number1 --> 클래스변수에 접근\n",
    "# calc1.number1 = 100   : number1 이름의 인스턴스 변수를  생성\n",
    "# calc1.number1 : 인스턴스 변수에 접근\n"
   ]
  },
  {
   "cell_type": "code",
   "execution_count": 90,
   "id": "c573eb3d",
   "metadata": {},
   "outputs": [
    {
     "name": "stdout",
     "output_type": "stream",
     "text": [
      "100 0 0\n"
     ]
    }
   ],
   "source": [
    "calc1 = Calc(); calc2 = Calc()\n",
    "calc1.number1 = 100 ;calc1.number1 ;calc2.number1\n",
    "print(calc1.number1, calc2.number1, Calc.number1)"
   ]
  },
  {
   "cell_type": "code",
   "execution_count": 52,
   "id": "5b907f1e",
   "metadata": {},
   "outputs": [
    {
     "data": {
      "text/plain": [
       "200"
      ]
     },
     "execution_count": 52,
     "metadata": {},
     "output_type": "execute_result"
    }
   ],
   "source": [
    "calc1 = Calc()\n",
    "calc1.multi(10,20)"
   ]
  },
  {
   "cell_type": "code",
   "execution_count": null,
   "id": "19515014",
   "metadata": {},
   "outputs": [],
   "source": [
    "class Product():\n",
    "    serial = 0\n",
    "    def build(self):\n",
    "        self.name = ''\n",
    "        self.score=0"
   ]
  },
  {
   "cell_type": "code",
   "execution_count": null,
   "id": "b4235c8f",
   "metadata": {},
   "outputs": [],
   "source": [
    "item1 = Product()\n",
    "# item1.name = ''\n",
    "# item1.score = 0\n",
    "item1.build()\n",
    "\n",
    "      \n",
    "item2 = Product()\n",
    "# item2.name = ''\n",
    "# item2.score = 0\n",
    "item1.build()\n"
   ]
  },
  {
   "cell_type": "code",
   "execution_count": null,
   "id": "755426fd",
   "metadata": {},
   "outputs": [],
   "source": [
    "item1 = Product()\n",
    "item2 = Product()\n",
    "item3 = Product()"
   ]
  },
  {
   "cell_type": "code",
   "execution_count": 111,
   "id": "8d030217",
   "metadata": {},
   "outputs": [],
   "source": [
    "# 클래스 생성\n",
    "# class 클래명():\n",
    "#     # 클래스 내부에서 사용할 인스턴스 변수 생성\n",
    "#     def __init__(self):\n",
    "#         self.변수명 = 값"
   ]
  },
  {
   "cell_type": "code",
   "execution_count": null,
   "id": "a2855bfc",
   "metadata": {},
   "outputs": [],
   "source": [
    "# 학사관리 - 학생 클래스\n",
    "# 메소드 : 학점계산, 학생정보 출력\n",
    "# 생성자 : 인스턴스변수  이름 나이 국 영 수 점수"
   ]
  },
  {
   "cell_type": "code",
   "execution_count": 125,
   "id": "f573acb7",
   "metadata": {},
   "outputs": [],
   "source": [
    "class Student():\n",
    "    def __init__(self):\n",
    "        self.name = ''\n",
    "        self.age = 0\n",
    "        self.scores = {'kor':0,'eng':0,'math':0}\n",
    "        self.rank = ''\n",
    "    def getRank(self):\n",
    "        avg = sum(self.scores.values()) / len(self.scores)\n",
    "        if avg >=90:\n",
    "            self.rank = 'A'\n",
    "        elif avg >=80:\n",
    "            self.rank = 'B'\n",
    "        elif avg >=70:\n",
    "            self.rank = 'C'\n",
    "        elif avg >=60:\n",
    "            self.rank = 'D'\n",
    "        else:\n",
    "            self.rank = 'F'\n",
    "    def show_info(self):\n",
    "        temp =  f'name:{self.name} age:{self.age}\\n' \n",
    "        temp += f'rank:{self.rank} scores:{dict(self.scores.items())}'\n",
    "        return temp"
   ]
  },
  {
   "cell_type": "code",
   "execution_count": 126,
   "id": "efb97f14",
   "metadata": {},
   "outputs": [],
   "source": [
    "s1 = Student()\n",
    "s1.name = '홍길동'\n",
    "s1.age = 15\n",
    "s1.scores['kor'] = 90\n",
    "s1.scores['eng'] = 95\n",
    "s1.scores['math'] = 97"
   ]
  },
  {
   "cell_type": "code",
   "execution_count": 127,
   "id": "10307082",
   "metadata": {},
   "outputs": [
    {
     "name": "stdout",
     "output_type": "stream",
     "text": [
      "A\n",
      "name:홍길동 age:15\n",
      "rank:A scores:{'kor': 90, 'eng': 95, 'math': 97}\n"
     ]
    }
   ],
   "source": [
    "s1.getRank()\n",
    "print(s1.rank)\n",
    "print(s1.show_info())"
   ]
  },
  {
   "cell_type": "code",
   "execution_count": null,
   "id": "9180af81",
   "metadata": {},
   "outputs": [],
   "source": []
  }
 ],
 "metadata": {
  "kernelspec": {
   "display_name": "base",
   "language": "python",
   "name": "python3"
  },
  "language_info": {
   "codemirror_mode": {
    "name": "ipython",
    "version": 3
   },
   "file_extension": ".py",
   "mimetype": "text/x-python",
   "name": "python",
   "nbconvert_exporter": "python",
   "pygments_lexer": "ipython3",
   "version": "3.13.5"
  }
 },
 "nbformat": 4,
 "nbformat_minor": 5
}

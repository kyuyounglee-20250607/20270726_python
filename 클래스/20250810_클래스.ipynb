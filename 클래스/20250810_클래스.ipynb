{
 "cells": [
  {
   "cell_type": "code",
   "execution_count": 1,
   "id": "28685e92",
   "metadata": {},
   "outputs": [],
   "source": [
    "# 클래스 기본 형태 만들기\n",
    "# 변수 한개 가지는 클래스\n",
    "# 클래스명 MyCls\n",
    "# 변수명 data"
   ]
  },
  {
   "cell_type": "code",
   "execution_count": null,
   "id": "f0f44dae",
   "metadata": {},
   "outputs": [],
   "source": [
    "class Animal():\n",
    "    def __init__(self,age):\n",
    "        self.age = age\n",
    "\n",
    "class Dog(Animal):\n",
    "    def __init__(self, age):\n",
    "        super().__init__(age)\n",
    "\n",
    "class Cat(Animal):\n",
    "    def __init__(self, age):\n",
    "        super().__init__(age)\n",
    "\n",
    "class Human(Animal):\n",
    "    def __init__(self, age):\n",
    "        super().__init__(age)\n",
    "\n"
   ]
  },
  {
   "cell_type": "code",
   "execution_count": null,
   "id": "69abe353",
   "metadata": {},
   "outputs": [
    {
     "name": "stdout",
     "output_type": "stream",
     "text": [
      "숫자를 입력하세요\n",
      "숫자를 입력하세요\n",
      "0과 100 사이의 데이터를 입력하세요\n",
      "0과 100 사이의 데이터를 입력하세요\n"
     ]
    }
   ],
   "source": [
    "class InvalidAge0to100(Exception):\n",
    "    def __init__(self, message):\n",
    "        super().__init__(message)\n",
    "\n",
    "while True:        \n",
    "    try:\n",
    "        number = int(input('정수입력'))\n",
    "        if not 0<= number <=100:\n",
    "            raise InvalidAge0to100('0과 100 사이의 데이터를 입력하세요')                \n",
    "    except InvalidAge0to100 as e:\n",
    "        print(e)\n",
    "    except ValueError:\n",
    "        print('숫자를 입력하세요')\n",
    "    else:\n",
    "        break"
   ]
  },
  {
   "cell_type": "code",
   "execution_count": null,
   "id": "bb8bf1b5",
   "metadata": {},
   "outputs": [],
   "source": []
  }
 ],
 "metadata": {
  "kernelspec": {
   "display_name": "base",
   "language": "python",
   "name": "python3"
  },
  "language_info": {
   "codemirror_mode": {
    "name": "ipython",
    "version": 3
   },
   "file_extension": ".py",
   "mimetype": "text/x-python",
   "name": "python",
   "nbconvert_exporter": "python",
   "pygments_lexer": "ipython3",
   "version": "3.13.5"
  }
 },
 "nbformat": 4,
 "nbformat_minor": 5
}
